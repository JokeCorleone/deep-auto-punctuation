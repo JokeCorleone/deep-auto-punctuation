{
 "cells": [
  {
   "cell_type": "markdown",
   "metadata": {
    "deletable": true,
    "editable": true,
    "run_control": {
     "frozen": false,
     "read_only": false
    }
   },
   "source": [
    "# Learning Auto-Punctuation by Reading Engadget Articles  [[Repo]](https://github.com/episodeyang/deep-auto-punctuation#learning-auto-punctuation-by-reading-engadget-articles)\n",
    "\n",
    "[[DOI]](https://zenodo.org/badge/latestdoi/86387963)\n",
    "\n",
    "\n",
    "## Overview\n",
    "\n",
    "This project trains a bi-directional GRU to learn how to automatically punctuate a sentence by reading it character by character. The set of operation it learns include:\n",
    "```\n",
    "capitalization: <cap>\n",
    "         comma:  ,\n",
    "        period:  .\n",
    "   dollar sign:  $\n",
    "     semicolon:  ;\n",
    "         colon:  :\n",
    "  single quote:  '\n",
    "  double quote:  \"\n",
    "  no operation: <nop>\n",
    "```\n",
    "\n",
    "### Performance\n",
    "\n",
    "24 epochs takes about 8 hours on a i7 PC. Performance at 24 and 48 epochs are similar with slight improvements. Here is the performance at 48 epoch, for detailed record refer to the cell output at the end of this notebook.\n",
    "\n",
    "```\n",
    "    Test P/R  Epoch 48 Batch 380\n",
    "    =================================\n",
    "    Key: <nop>\tPrec:  97.1%\tRecall:  98.0%\tF-Score:  97.6%\n",
    "    Key: <cap>\tPrec:  73.2%\tRecall:  58.9%\tF-Score:  65.3%\n",
    "    Key:   ,\tPrec:  35.7%\tRecall:  32.2%\tF-Score:  33.9%\n",
    "    Key:   .\tPrec:  45.0%\tRecall:  39.7%\tF-Score:  42.2%\n",
    "    Key:   '\tPrec:  81.7%\tRecall:  83.4%\tF-Score:  82.5%\n",
    "    Key:   :\tPrec:  12.1%\tRecall:  10.8%\tF-Score:  11.4%\n",
    "    Key:   \"\tPrec:  25.2%\tRecall:  44.8%\tF-Score:  32.3%\n",
    "    Key:   $\tPrec:  51.4%\tRecall:  87.8%\tF-Score:  64.9%\n",
    "    Key:   ;\tPrec:   0.0%\tRecall:   0.0%\tF-Score:   N/A\n",
    "    Key:   ?\tPrec:   5.6%\tRecall:   4.8%\tF-Score:   5.1%\n",
    "    Key:   !\tPrec:   0.0%\tRecall:   0.0%\tF-Score:   N/A\n",
    "```\n",
    "\n",
    "\n",
    "### Requirements\n",
    "\n",
    "```\n",
    "pytorch numpy matplotlib tqdm bs4\n",
    "```\n",
    "\n",
    "## Model Setup and Considerations\n",
    "\n",
    "The initial setup I began with was a single uni-direction GRU, with input domain [A-z0-9] and output domain of the ops listed above. My hope at that time was to simply train the RNN to learn correcponding operations. A few things jumped out during the experiment:\n",
    "\n",
    "1. **Use bi-directional GRU.** with the uni-direction GRU, the network quickly learned capitalization of terms, but it had difficulties with single quote. In words like \"I'm\", \"won't\", there are simply too much ambiguity from reading only the forward part of the word. The network didn't have enough information to properly infer such punctuations.\n",
    "    \n",
    "    So I decided to change the uni-direction GRU to bi-direction GRU. The result is much better prediction for single quotes in concatenations.\n",
    "\n",
    "    the network is still training, but the precision and recall of single quote is nowt close to 80%.\n",
    "    \n",
    "    This use of bi-directional GRU is standard in NLP processes. But it is nice to experience first-hand the difference in performance and training.\n",
    "    \n",
    "    A side effect of this switch is that the network now runs almost 2x slower. This leads to the next item in this list:\n",
    "2. **Use the smallest model possible.** At the very begining, my input embeding was borrowed from the Shakespeare model, so the input space include both capital alphabet as well as lower-case ones. What I didn't realize was that I didn't need the capital cases because all inputs were lower-case. \n",
    "    \n",
    "    So when the training became painfully slow after I switch to bi-directional GRU, I looked for ways to make the training faster. A look at the input embeding made it obvious that half of the embedding space wasn't needed. \n",
    "\n",
    "    Removing the lower case bases made the traing around 3x faster. This is a rough estimate since I also decided to redownload the data set at the same time on the same machine.\n",
    "    \n",
    "3. **Text formatting**. Proper formating of input text crawed from Engadget.com was crucial, especially because the occurrence of a lot of the puncuation was low and this is a character-level model. You can take a look at the crawed text inside [./engadget_data_tar.gz](./engadget_data_tar.gz). \n",
    "\n",
    "4. **Async and Multi-process crawing is much much faster**. I initially wrote the engadget crawer as a single threaded class. Because the python `requests` library is synchronous, the crawler spent virtually all time waiting for the `GET` requests.\n",
    "    \n",
    "    This could be made a *lot* faster by parallelizing the crawling, or use proper async pattern. \n",
    "\n",
    "    This thought came to me pretty late during the second crawl so I did not implement it. But for future work, parallel and async crawler is going to be on the todo list.\n",
    "\n",
    "5. **Using Precision/Recall in a multi-class scenario**. The setup makes the reasonable assumption that each operation can only be applied mutually exclusively. The accuracy metric used here are **precision/recall** and the **F-score**, both commonly used in the literature<sup>1,</sup> <sup>2</sup>. The P/R and F-score are implemented according to wikipedia <sup>3,</sup> <sup>4</sup>.\n",
    "    \n",
    "    example accuracy output:\n",
    "    \n",
    "    ```\n",
    "    Epoch 24 Batch 760 Test P/R\n",
    "    =================================\n",
    "    Key: <nop>\tPrec:  97.1%\tRecall:  97.8%\tF-Score:  97.4%\n",
    "    Key: <cap>\tPrec:  68.6%\tRecall:  57.8%\tF-Score:  62.7%\n",
    "    Key:   ,\tPrec:  30.8%\tRecall:  30.9%\tF-Score:  30.9%\n",
    "    Key:   .\tPrec:  43.7%\tRecall:  38.3%\tF-Score:  40.8%\n",
    "    Key:   '\tPrec:  76.9%\tRecall:  80.2%\tF-Score:  78.5%\n",
    "    Key:   :\tPrec:  10.3%\tRecall:   6.1%\tF-Score:   7.7%\n",
    "    Key:   \"\tPrec:  26.9%\tRecall:  45.1%\tF-Score:  33.7%\n",
    "    Key:   $\tPrec:  64.3%\tRecall:  61.6%\tF-Score:  62.9%\n",
    "    Key:   ;\tPrec:   0.0%\tRecall:   0.0%\tF-Score:   N/A\n",
    "    Key:   ?\tPrec:   0.0%\tRecall:   0.0%\tF-Score:   N/A\n",
    "    Key:   !\tPrec:   0.0%\tRecall:   0.0%\tF-Score:   N/A\n",
    "    \n",
    "    400it [06:07,  1.33s/it]\n",
    "    ```\n",
    "    \n",
    "6. **Hidden Layer initialization**: In the past I've found it was easier for the neural network to generate good results when both the training and the generation starts with a zero initial state. In this case because we are computing time limited, I zero the hidden layer at the begining of each file.\n",
    "\n",
    "7. **Mini-batches and Padding**: During training, I first sort the entire training set by the length of each file (there are 45k of them) and arrange them in batches, so that files inside each batch are roughly similar size, and only minimal padding is needed. Sometimes the file becomes too long. In that case I use `data.fuzzy_chunk_length()` to calculate a good chunk length with heuristics. The result is mostly no padding during most of the trainings.\n",
    "    \n",
    "    Going from having no mini-batch to having a minibatch of 128, the time per batch hasn't changed much. The accuracy report above shows the training result after 24 epochs.\n",
    "\n",
    "\n",
    "## Data and Cross-Validation\n",
    "\n",
    "The entire dataset is composed of around 50k blog posts from engadget. I randomly selected 49k of these as my training set, 50 as my validation set, and around 0.5k as my test set. The training is a bit slow on an Intel i7 desktop, averaging 1.5s/file depending on the length of the file. As a result, it takes about a day to go through the entire training set.\n",
    "\n",
    "## Todo:\n",
    "All done.\n",
    "\n",
    "## Done:\n",
    "- [x] execute demo test after training\n",
    "- [x] add final performance metric\n",
    "- [x] implement minibatch\n",
    "- [x] a generative demo\n",
    "- [x] add validation (once an hour or so)\n",
    "- [x] add accuracy metric, use precision/recall.\n",
    "- [x] change to bi-directional GRU\n",
    "- [x] get data\n",
    "- [x] Add temperature to generator\n",
    "- [x] add self-feeding generator\n",
    "- [x] get training to work\n",
    "- [x] use optim and Adam\n",
    "\n",
    "## References\n",
    "1: https://www.aclweb.org/anthology/D/D16/D16-1111.pdf  \n",
    "2: https://phon.ioc.ee/dokuwiki/lib/exe/fetch.php?media=people:tanel:interspeech2015-paper-punct.pdf  \n",
    "3: https://en.wikipedia.org/wiki/precision_and_recall  \n",
    "4: https://en.wikipedia.org/wiki/F1_score  "
   ]
  },
  {
   "cell_type": "code",
   "execution_count": 1,
   "metadata": {
    "ExecuteTime": {
     "end_time": "2017-03-29T10:06:47.894982Z",
     "start_time": "2017-03-29T05:06:47.887736-05:00"
    },
    "collapsed": false,
    "deletable": true,
    "editable": true,
    "run_control": {
     "frozen": false,
     "read_only": false
    }
   },
   "outputs": [],
   "source": [
    "%load_ext autoreload\n",
    "%autoreload 2"
   ]
  },
  {
   "cell_type": "code",
   "execution_count": 2,
   "metadata": {
    "ExecuteTime": {
     "end_time": "2017-03-29T10:06:48.054793Z",
     "start_time": "2017-03-29T05:06:47.895765-05:00"
    },
    "collapsed": false,
    "deletable": true,
    "editable": true,
    "run_control": {
     "frozen": false,
     "read_only": false
    }
   },
   "outputs": [],
   "source": [
    "import matplotlib.pyplot as plt\n",
    "%matplotlib inline\n",
    "%config InlineBackend.figure_format = 'retina'"
   ]
  },
  {
   "cell_type": "markdown",
   "metadata": {
    "deletable": true,
    "editable": true,
    "run_control": {
     "frozen": false,
     "read_only": false
    }
   },
   "source": [
    "## Data Preparation\n",
    "\n",
    "Here we build up generators for batches and take a quick look at the data. I collect all of the different characters that occurs in the data, and plot then ordered by the appearance frequency. It looks like some Japanese and Korean article got mixed in."
   ]
  },
  {
   "cell_type": "code",
   "execution_count": 3,
   "metadata": {
    "ExecuteTime": {
     "end_time": "2017-03-29T10:06:48.105458Z",
     "start_time": "2017-03-29T05:06:48.055909-05:00"
    },
    "collapsed": false,
    "deletable": true,
    "editable": true,
    "run_control": {
     "frozen": false,
     "read_only": true
    }
   },
   "outputs": [
    {
     "data": {
      "text/plain": [
       "('number of files: ', 48717)"
      ]
     },
     "execution_count": 3,
     "metadata": {},
     "output_type": "execute_result"
    }
   ],
   "source": [
    "import os\n",
    "_, _, files = list(os.walk(\"./engadget_data\"))[0]\n",
    "\"number of files: \", len(files)"
   ]
  },
  {
   "cell_type": "code",
   "execution_count": 4,
   "metadata": {
    "ExecuteTime": {
     "end_time": "2017-03-29T10:06:52.203346Z",
     "start_time": "2017-03-29T05:06:48.106548-05:00"
    },
    "collapsed": false,
    "deletable": true,
    "editable": true,
    "run_control": {
     "frozen": false,
     "read_only": true
    },
    "scrolled": true
   },
   "outputs": [
    {
     "data": {
      "image/png": "[encoded data removed]",
      "text/plain": [
       "<matplotlib.figure.Figure at 0x7fdf5238f438>"
      ]
     },
     "metadata": {
      "image/png": {
       "height": 135,
       "width": 856
      }
     },
     "output_type": "display_data"
    }
   ],
   "source": [
    "import data\n",
    "\n",
    "fig = plt.figure(figsize=(12, 2))\n",
    "plt.subplot(131)\n",
    "plt.plot([len(src) for fn, src in data.source_gen()], linewidth=3, alpha=.7)\n",
    "plt.title(\"Distribution of Document Length\")\n",
    "plt.xlabel('Document Index')\n",
    "plt.ylabel('Document Length')\n",
    "plt.subplot(132)\n",
    "plt.plot([len(src) for fn, src in data.validation_gen()], linewidth=3, alpha=.7)\n",
    "plt.title(\"Validation Set\")\n",
    "plt.xlabel('Document Index')\n",
    "plt.ylabel('Document Length')\n",
    "plt.subplot(133)\n",
    "plt.plot([len(src) for fn, src in data.test_gen()], linewidth=3, alpha=.7)\n",
    "plt.title(\"Test Set\")\n",
    "plt.xlabel('Document Index')\n",
    "plt.ylabel('Document Length')\n",
    "\n",
    "plt.tight_layout()\n",
    "\n",
    "plt.show()"
   ]
  },
  {
   "cell_type": "code",
   "execution_count": 5,
   "metadata": {
    "ExecuteTime": {
     "end_time": "2017-03-29T10:07:01.022613Z",
     "start_time": "2017-03-29T05:06:52.204330-05:00"
    },
    "collapsed": false,
    "deletable": true,
    "editable": true,
    "run_control": {
     "frozen": false,
     "read_only": true
    },
    "scrolled": false
   },
   "outputs": [
    {
     "name": "stderr",
     "output_type": "stream",
     "text": [
      "48716it [00:08, 5535.12it/s]\n"
     ]
    },
    {
     "data": {
      "text/html": [
       "<pre style='border: 1px solid #919191;border-radius:10px;background-color:#e4e4e4;padding:10px'>\n",
       " Pewp.[ViaSlshdot]W'myuHCr,nDkvbgMxKjTc?I!YUz10-fJqB:FOEQ85…AN3\"R%GL\t29746&X Z()$@—/_;#ûé+^¥£–*=ö€üñ\\àµ~âα’“”<>×±çúëè|íÏÃ¸￡​°áóəê·Президнт®Éμ₩²äïموقعزارةلأتصã{}ø™`ʼ﻿•Ω­ôÔÜИкаоğ♥≠Û″ōгî�å«»알려드립니다일부언론에서보도한갤럭시Ⅲ후속모델출예정이라는추측은단순루머뿐사실아닙해진게무것없데왜런소문퍼질까요ㅜāìウニカÖºæ‐★ćē‘¯ツ¾Łš§′👍©ㅡ※´½¹¢ış‑℠、Ⓞ●―㎜†＋ │‡傅珮倫─＊−Ò　ﬁ₹Ǿ￼ ÀΦﬂⅡ¼○̈□討鬼閃乱％‖π³⁴‚意外Î≥≦℗■ū¡〈만␣̃÷◦（）¬‮‭‟„⁰˚▪Žč・？さんマジでしょうか！◎－～ÂÁ♦〈⁵⁶⁷\f",
       "Ⓡ∆电子书包数字公文̳ｘ１痴匠⎯：∑①②③④⑤⑥⑦⑧⑨⑩⑪⑫⑬⑭⑮⑯›‎◇年月日報道関係者各位略称はタッチパネルを搭載好きなスイ使えるハペク脱着式モバノートソコン「」本向けに発売すこと表また。土より順次開始卓越処理能力高い応答性備利用シ合わせて液晶画面キボド体分離の型取最薄部軽約対フブレテプロセサビメも十ォ揮装速大容量デ保存両方実現傷強グ社化ガラ品オィム暗場所入やミがれどあらゆリ機満製名予定／価格下旬以降想円主仕様詳細つ添付ァご参照くだ番ワ点ア示解像度記憶置無線出ェ駆動時間ズ幅奥行質統属ダュ証書専特徴頑丈ヘ加工施金手持ち運べ精採上左右広視野角輝誇並み硬汚拭圧倒的ナ揃ほ可充技術世界有共同革新内蔵ピ原音限近提供明自調節電源ケ接続簡単ャじ比率操作っ連携毎業快適お客問先通話料号負担受曜祝祭末盆休当吉ヨ資写真等第ザ市荷台め販総エそ門評得ざ送々賞達成測法基状況設変米査会株全国元英語版⅓･➢≤ </pre>"
      ],
      "text/plain": [
       "<IPython.core.display.HTML object>"
      ]
     },
     "execution_count": 5,
     "metadata": {},
     "output_type": "execute_result"
    }
   ],
   "source": [
    "from tqdm import tqdm\n",
    "from IPython.display import HTML\n",
    "\n",
    "def get_chars():\n",
    "    step = 0\n",
    "    freq = {}\n",
    "    keys = []\n",
    "    for file_name, source in tqdm(data.source_gen()):\n",
    "\n",
    "        for char in source:\n",
    "            try:\n",
    "                freq[char] += 1\n",
    "            except KeyError:\n",
    "                freq[char] = 1\n",
    "                keys.append(char)\n",
    "    \n",
    "    return keys, freq\n",
    "ks, freqs = get_chars()\n",
    "HTML(\"<pre style='border: 1px solid #919191;border-radius:10px;background-color:#e4e4e4;padding:10px'>\" + \"\".join(ks) + \"</pre>\")"
   ]
  },
  {
   "cell_type": "markdown",
   "metadata": {
    "deletable": true,
    "editable": true,
    "run_control": {
     "frozen": false,
     "read_only": false
    }
   },
   "source": [
    "### Character Frequency\n",
    "\n",
    "There is a long tail of characters that appears only once, mostly emoji's and CJK characters. \n",
    "\n",
    "In this project, we will just manually specify lowercase alphabets and numbers as our input domain (plus space and carriage return)."
   ]
  },
  {
   "cell_type": "code",
   "execution_count": 6,
   "metadata": {
    "ExecuteTime": {
     "end_time": "2017-03-29T10:07:01.320936Z",
     "start_time": "2017-03-29T05:07:01.023840-05:00"
    },
    "collapsed": false,
    "deletable": true,
    "editable": true,
    "run_control": {
     "frozen": false,
     "read_only": true
    }
   },
   "outputs": [
    {
     "name": "stdout",
     "output_type": "stream",
     "text": [
      " etoainsrlhdcupmgfwyb,v.k-\n",
      "'STA0P1MICxD2\"BWEGN3OHRLFV5)(4Uzj9:q\t867$X/KJY?;QZ[]&!–®™*%+=•_#·@£\\ €—é¥’{}‐ü|>~α×°à￼©^�―”ö　“<●…ー℠ó§ñ‟±­◦・ッ、：µ‖\n"
     ]
    },
    {
     "data": {
      "image/png": "[encoded data removed]",
      "text/plain": [
       "<matplotlib.figure.Figure at 0x7fdf4e55ea20>"
      ]
     },
     "metadata": {
      "image/png": {
       "height": 285,
       "width": 384
      }
     },
     "output_type": "display_data"
    }
   ],
   "source": [
    "import math, numpy as np, matplotlib.pyplot as plt\n",
    "\n",
    "order = np.argsort([freqs[k] for k in ks])[::-1]\n",
    "chars_ordered = \"\".join(np.array([k for k in ks])[order])\n",
    "print(chars_ordered[:140])\n",
    "\n",
    "plt.title('Frequency of Each Character', fontsize=18)\n",
    "plt.plot(np.array([math.log10(freqs[k]) for k in ks])[order])\n",
    "plt.ylabel('$\\log_{10}$ Frequency', fontsize=14)\n",
    "plt.xlabel('Character Index', fontsize=14)\n",
    "plt.show()"
   ]
  },
  {
   "cell_type": "markdown",
   "metadata": {
    "deletable": true,
    "editable": true,
    "run_control": {
     "frozen": false,
     "read_only": false
    }
   },
   "source": [
    "### Input Domain\n",
    "\n",
    "Input domain is [A-z0-9], plus space and new-line \"\\n\" characters. I have considered `\"-\"` but decided not to add it. \n",
    "\n",
    "In speech recognition tasks, we might be able to distinguish between <kbd>space</kbd> and <kbd>⏎</kbd> by the length of the pause.\n",
    "\n",
    "### Output Domain\n",
    "\n",
    "The output domain includes the following. The punctuation extraction made sure that strings like \"I'm a boy\" doesn't introduce conflict between the capitalization of the \"i\" and the single quote afterward.\n",
    "\n",
    "```\n",
    "capitalization: <cap>\n",
    "         comma:  ,\n",
    "        period:  .\n",
    "   dollar sign:  $\n",
    "     semicolon:  ;\n",
    "         colon:  :\n",
    "  single quote:  '\n",
    "  double quote:  \"\n",
    "  no operation: <nop>\n",
    "```"
   ]
  },
  {
   "cell_type": "code",
   "execution_count": 7,
   "metadata": {
    "ExecuteTime": {
     "end_time": "2017-03-29T10:07:01.328128Z",
     "start_time": "2017-03-29T05:07:01.321998-05:00"
    },
    "collapsed": false,
    "deletable": true,
    "editable": true,
    "run_control": {
     "frozen": false,
     "read_only": false
    }
   },
   "outputs": [],
   "source": [
    "input_chars = list(\" \\nabcdefghijklmnopqrstuvwxyz01234567890\")\n",
    "output_chars = [\"<nop>\", \"<cap>\"] + list(\".,;:?!\\\"'$\")"
   ]
  },
  {
   "cell_type": "markdown",
   "metadata": {
    "deletable": true,
    "editable": true,
    "run_control": {
     "frozen": false,
     "read_only": false
    }
   },
   "source": [
    "### Data Module\n",
    "\n",
    "Besides loaders for the training data, the data module also contains helper functions such as `extract_punc` and `apply_punc`. Here is an example of what they do:"
   ]
  },
  {
   "cell_type": "code",
   "execution_count": 33,
   "metadata": {
    "ExecuteTime": {
     "end_time": "2017-03-30T08:08:30.055165Z",
     "start_time": "2017-03-30T03:08:30.031359-05:00"
    },
    "collapsed": false,
    "deletable": true,
    "editable": true,
    "run_control": {
     "frozen": false,
     "read_only": false
    }
   },
   "outputs": [
    {
     "name": "stdout",
     "output_type": "stream",
     "text": [
      "Punc-less Text:\n",
      "========================\n",
      " ['a', 't', 'i', 'd', ' ', 'i', 'm', ' ', 'n', 'o', 't', ' ', 's', 'u', 'r', 'e', ' ', 'i', 'f', ' ', '1', '0', ' ', 'i', 's', ' ', 'e', 'n', 'o', 'u', 'g', 'h', ' ']\n",
      "\n",
      "Punctuation Operators Extracted:\n",
      "========================\n",
      " ['<cap>', '<cap>', '<cap>', \"'\", '.', '<cap>', \"'\", '<nop>', '<nop>', '<nop>', '<nop>', '<nop>', '<nop>', '<nop>', '<nop>', '<nop>', '<nop>', '<nop>', '<nop>', '<nop>', '$', '<nop>', '<nop>', '<nop>', '<nop>', '<nop>', '<nop>', '<nop>', '<nop>', '<nop>', '<nop>', '<nop>', '.']\n",
      "\n",
      "Varify that it works by recovering the original string:\n",
      "========================\n",
      " ATI'd. I'm not sure if $10 is enough. \n"
     ]
    }
   ],
   "source": [
    "import data\n",
    "\n",
    "i, o = data.extract_punc(\"ATI'd. I'm not sure if $10 is enough. \", input_chars, output_chars)\n",
    "print(\"Punc-less Text:\\n========================\\n\", i)\n",
    "print(\"\\nPunctuation Operators Extracted:\\n========================\\n\", o)\n",
    "result = data.apply_punc(\"\".join(i), o)\n",
    "print(\"\\nVarify that it works by recovering the original string:\\n========================\\n\", result)"
   ]
  },
  {
   "cell_type": "markdown",
   "metadata": {
    "deletable": true,
    "editable": true,
    "run_control": {
     "frozen": false,
     "read_only": false
    }
   },
   "source": [
    "### Accuracy Metric\n",
    "\n",
    "The accuracy metric is the standard precision/recall plus F-score. The implementation can be found in script [metric.py](metric.py), referenced from wikipedia and two other papers."
   ]
  },
  {
   "cell_type": "code",
   "execution_count": 9,
   "metadata": {
    "ExecuteTime": {
     "end_time": "2017-03-29T10:07:01.366362Z",
     "start_time": "2017-03-29T05:07:01.350965-05:00"
    },
    "collapsed": false,
    "deletable": true,
    "editable": true,
    "run_control": {
     "frozen": false,
     "read_only": false
    }
   },
   "outputs": [
    {
     "name": "stdout",
     "output_type": "stream",
     "text": [
      "Key: \u001b[31m<nop>\u001b[0m\tPrec: \u001b[32m 99.1\u001b[0m%\tRecall: \u001b[32m 96.6\u001b[0m%\tF-Score: \u001b[32m 97.9\u001b[0m%\u001b[0m\n",
      "Key: \u001b[31m  ,\u001b[0m\tPrec: \u001b[32m  0.0\u001b[0m%\tRecall: \u001b[32m  0.0\u001b[0m%\tF-Score:   N/A\u001b[0m\n",
      "Key: \u001b[31m<cap>\u001b[0m\tPrec: \u001b[32m100.0\u001b[0m%\tRecall: \u001b[32m 75.0\u001b[0m%\tF-Score: \u001b[32m 85.7\u001b[0m%\u001b[0m\n",
      "Key: \u001b[31m  .\u001b[0m\tPrec: \u001b[32m  0.0\u001b[0m%\tRecall: \u001b[32m  0.0\u001b[0m%\tF-Score:   N/A\u001b[0m\n",
      "Key: \u001b[31m  '\u001b[0m\tPrec: \u001b[32m 66.7\u001b[0m%\tRecall: \u001b[32m100.0\u001b[0m%\tF-Score: \u001b[32m 80.0\u001b[0m%\u001b[0m\n",
      "\n",
      "\n",
      "true_p:\t{'<nop>': 114, '<cap>': 3, \"'\": 2}\n",
      "p:\t{'<nop>': 118, '<cap>': 4, \"'\": 2}\n",
      "all_p:\t{'<nop>': 115, ',': 2, '<cap>': 3, '.': 1, \"'\": 3}\n"
     ]
    }
   ],
   "source": [
    "import metric"
   ]
  },
  {
   "cell_type": "markdown",
   "metadata": {
    "deletable": true,
    "editable": true,
    "run_control": {
     "frozen": false,
     "read_only": false
    }
   },
   "source": [
    "### Report Progress Via Visdom\n",
    "\n",
    "To use visdom, refer to doc and run server\n",
    "```sh\n",
    "python visdom.server\n",
    "```"
   ]
  },
  {
   "cell_type": "code",
   "execution_count": 10,
   "metadata": {
    "ExecuteTime": {
     "end_time": "2017-03-29T10:07:01.530379Z",
     "start_time": "2017-03-29T05:07:01.367130-05:00"
    },
    "collapsed": false,
    "deletable": true,
    "editable": true,
    "run_control": {
     "frozen": false,
     "read_only": false
    }
   },
   "outputs": [],
   "source": [
    "# https://github.com/facebookresearch/visdom#setup\n",
    "import visdom\n",
    "vis = visdom.Visdom()\n",
    "vis.env = \"deep-punc-experiment\"\n",
    "\n",
    "emb = None\n",
    "opt = None\n",
    "smx = None\n",
    "lss = None\n",
    "def plot_progress(embeded, output, softmax, losses):\n",
    "    global emb, opt, smx, lss\n",
    "    emb = vis.heatmap(embeded, win=emb or None, opts=dict(title=\"Input Embedding\"))\n",
    "    opt = vis.heatmap(output, win=opt or None, opts=dict(title=\"GRU Output\"))\n",
    "    smx = vis.heatmap(softmax, win=smx or None, opts=dict(title=\"Softmax Activation\"))\n",
    "    lss = vis.line(Y=losses, win=lss or None, opts=dict(title=\"Loss\"))"
   ]
  },
  {
   "cell_type": "code",
   "execution_count": 55,
   "metadata": {
    "ExecuteTime": {
     "end_time": "2017-03-30T09:31:20.636924Z",
     "start_time": "2017-03-30T04:31:20.583491-05:00"
    },
    "collapsed": false,
    "deletable": true,
    "editable": true,
    "run_control": {
     "frozen": false,
     "read_only": false
    }
   },
   "outputs": [
    {
     "name": "stdout",
     "output_type": "stream",
     "text": [
      "input_size is: \u001b[32m40\u001b[0m; ouput_size is: \u001b[32m11\u001b[0m\u001b[0m\n",
      "****** Engadget Model Initialize ******\n"
     ]
    }
   ],
   "source": [
    "import utils, data, metric, model\n",
    "from tqdm import tqdm\n",
    "import numpy as np\n",
    "from IPython.display import HTML, clear_output\n",
    "from termcolor import cprint, colored as c\n",
    "\n",
    "input_chars = list(\" \\nabcdefghijklmnopqrstuvwxyz01234567890\")\n",
    "output_chars = [\"<nop>\", \"<cap>\"] + list(\".,;:?!\\\"'$\")\n",
    "\n",
    "# torch.set_num_threads(8)\n",
    "batch_size = 128\n",
    "\n",
    "char2vec = utils.Char2Vec(chars=input_chars, add_unknown=True)\n",
    "output_char2vec = utils.Char2Vec(chars = output_chars)\n",
    "input_size = char2vec.size\n",
    "output_size = output_char2vec.size\n",
    "\n",
    "cprint(\"input_size is: \" + c(input_size, 'green') + \"; ouput_size is: \" + c(output_size, 'green'))\n",
    "hidden_size = input_size\n",
    "layers = 1\n",
    "\n",
    "rnn = model.GruRNN(input_size, hidden_size, output_size, batch_size=batch_size, layers=layers, bi=True)\n",
    "egdt = model.Engadget(rnn, char2vec, output_char2vec)"
   ]
  },
  {
   "cell_type": "markdown",
   "metadata": {
    "ExecuteTime": {
     "end_time": "2017-03-30T08:27:51.095515Z",
     "start_time": "2017-03-30T03:27:51.066110-05:00"
    },
    "deletable": true,
    "editable": true,
    "run_control": {
     "frozen": false,
     "read_only": false
    }
   },
   "source": [
    "**Pre-trained model**: run the cell below (after uncomment) to load the pre-trained model"
   ]
  },
  {
   "cell_type": "code",
   "execution_count": 56,
   "metadata": {
    "ExecuteTime": {
     "end_time": "2017-03-30T09:31:22.943166Z",
     "start_time": "2017-03-30T04:31:22.817302-05:00"
    },
    "collapsed": false,
    "deletable": true,
    "editable": true,
    "run_control": {
     "frozen": false,
     "read_only": false
    }
   },
   "outputs": [],
   "source": [
    "egdt.load('./data/Gru_Engadget_epch-24.tar')"
   ]
  },
  {
   "cell_type": "markdown",
   "metadata": {
    "deletable": true,
    "editable": true,
    "run_control": {
     "frozen": false,
     "read_only": false
    }
   },
   "source": [
    "## Training\n",
    "\n",
    "The training below initializes the hidden layer at the beginning of each file. I believe this makes it more consistent, and easier for the network to converge."
   ]
  },
  {
   "cell_type": "code",
   "execution_count": 57,
   "metadata": {
    "ExecuteTime": {
     "end_time": "2017-03-30T19:11:23.247798Z",
     "start_time": "2017-03-30T04:31:41.324895-05:00"
    },
    "collapsed": false,
    "deletable": true,
    "editable": true,
    "run_control": {
     "frozen": false,
     "read_only": false
    },
    "scrolled": false
   },
   "outputs": [
    {
     "name": "stdout",
     "output_type": "stream",
     "text": [
      "Epoch 48 Batch 300\n",
      "=================================\n"
     ]
    },
    {
     "name": "stderr",
     "output_type": "stream",
     "text": [
      "\r",
      "300it [08:40,  4.06s/it]"
     ]
    },
    {
     "name": "stdout",
     "output_type": "stream",
     "text": [
      "Key: \u001b[31m<nop>\u001b[0m\tPrec: \u001b[32m 97.8\u001b[0m%\tRecall: \u001b[32m 97.7\u001b[0m%\tF-Score: \u001b[32m 97.7\u001b[0m%\u001b[0m\n",
      "Key: \u001b[31m  ,\u001b[0m\tPrec: \u001b[32m 35.7\u001b[0m%\tRecall: \u001b[32m 34.5\u001b[0m%\tF-Score: \u001b[32m 35.1\u001b[0m%\u001b[0m\n",
      "Key: \u001b[31m  \"\u001b[0m\tPrec: \u001b[32m 24.3\u001b[0m%\tRecall: \u001b[32m 22.1\u001b[0m%\tF-Score: \u001b[32m 23.1\u001b[0m%\u001b[0m\n",
      "Key: \u001b[31m<cap>\u001b[0m\tPrec: \u001b[32m 62.8\u001b[0m%\tRecall: \u001b[32m 64.8\u001b[0m%\tF-Score: \u001b[32m 63.8\u001b[0m%\u001b[0m\n",
      "Key: \u001b[31m  .\u001b[0m\tPrec: \u001b[32m 52.2\u001b[0m%\tRecall: \u001b[32m 51.8\u001b[0m%\tF-Score: \u001b[32m 52.0\u001b[0m%\u001b[0m\n",
      "Key: \u001b[31m  '\u001b[0m\tPrec: \u001b[32m 79.4\u001b[0m%\tRecall: \u001b[32m 79.9\u001b[0m%\tF-Score: \u001b[32m 79.6\u001b[0m%\u001b[0m\n",
      "Key: \u001b[31m  :\u001b[0m\tPrec: \u001b[32m 26.7\u001b[0m%\tRecall: \u001b[32m 33.3\u001b[0m%\tF-Score: \u001b[32m 29.6\u001b[0m%\u001b[0m\n",
      "Key: \u001b[31m  ?\u001b[0m\tPrec: \u001b[32m  0.0\u001b[0m%\tRecall: \u001b[32m  0.0\u001b[0m%\tF-Score:   N/A\u001b[0m\n",
      "Key: \u001b[31m  $\u001b[0m\tPrec: \u001b[32m 67.5\u001b[0m%\tRecall: \u001b[32m 64.3\u001b[0m%\tF-Score: \u001b[32m 65.9\u001b[0m%\u001b[0m\n",
      "Key: \u001b[31m  !\u001b[0m\tPrec: \u001b[32m  9.1\u001b[0m%\tRecall: \u001b[32m 16.7\u001b[0m%\tF-Score: \u001b[32m 11.8\u001b[0m%\u001b[0m\n",
      "Key: \u001b[31m  ;\u001b[0m\tPrec: \u001b[32m  0.0\u001b[0m%\tRecall: \u001b[32m  0.0\u001b[0m%\tF-Score:   N/A\u001b[0m\n",
      "\n",
      "\n",
      "ou the ability to share the fruits of your labor your, ahem, \"Rappertoire\") all of the requisite ways  email, Twitter and Facebook. After all, the dopest beats ought not be kept to yourself.\n",
      "\n",
      " \n",
      " In the end, AutoRap doesn't amount to too much more than a fun distraction  apologies in advance to all of those hoping to jumpstart their burgeoning rap careers. Sucker MCs can download it today from Google Play and the Apple App Store.\n",
      "\n",
      "\n",
      "                                                                                                                               \n",
      "ou the ability to share the fruits of your labor your aHem. \"Rappertoire,) all of the requisite ways  email Twitter, and Facebook after all, the dopest Beats ought not be \"kept to yourself.\n",
      "\n",
      " \n",
      " In the end autoraP doesn't amount To too much more than a fun distraction  apologIes in advance to all of 'those hoping to jumpstart their burgeoning RAp careers sucker. MCS can download it today from Google play and the Apple app store.\n",
      "\n",
      "\n",
      "                                                                                                                               \n"
     ]
    },
    {
     "name": "stderr",
     "output_type": "stream",
     "text": [
      "324it [10:53,  6.68s/it]"
     ]
    },
    {
     "name": "stdout",
     "output_type": "stream",
     "text": [
      "Epoch 48 Batch 325\n",
      "=================================\n"
     ]
    },
    {
     "name": "stderr",
     "output_type": "stream",
     "text": [
      "\r",
      "325it [11:00,  6.96s/it]"
     ]
    },
    {
     "name": "stdout",
     "output_type": "stream",
     "text": [
      "Key: \u001b[31m<nop>\u001b[0m\tPrec: \u001b[32m 98.1\u001b[0m%\tRecall: \u001b[32m 98.2\u001b[0m%\tF-Score: \u001b[32m 98.2\u001b[0m%\u001b[0m\n",
      "Key: \u001b[31m  '\u001b[0m\tPrec: \u001b[32m 76.2\u001b[0m%\tRecall: \u001b[32m 71.2\u001b[0m%\tF-Score: \u001b[32m 73.6\u001b[0m%\u001b[0m\n",
      "Key: \u001b[31m<cap>\u001b[0m\tPrec: \u001b[32m 68.2\u001b[0m%\tRecall: \u001b[32m 66.3\u001b[0m%\tF-Score: \u001b[32m 67.2\u001b[0m%\u001b[0m\n",
      "Key: \u001b[31m  ,\u001b[0m\tPrec: \u001b[32m 34.5\u001b[0m%\tRecall: \u001b[32m 33.5\u001b[0m%\tF-Score: \u001b[32m 34.0\u001b[0m%\u001b[0m\n",
      "Key: \u001b[31m  .\u001b[0m\tPrec: \u001b[32m 59.2\u001b[0m%\tRecall: \u001b[32m 61.2\u001b[0m%\tF-Score: \u001b[32m 60.2\u001b[0m%\u001b[0m\n",
      "Key: \u001b[31m  :\u001b[0m\tPrec: \u001b[32m 32.1\u001b[0m%\tRecall: \u001b[32m 36.2\u001b[0m%\tF-Score: \u001b[32m 34.0\u001b[0m%\u001b[0m\n",
      "Key: \u001b[31m  $\u001b[0m\tPrec: \u001b[32m 77.8\u001b[0m%\tRecall: \u001b[32m 77.8\u001b[0m%\tF-Score: \u001b[32m 77.8\u001b[0m%\u001b[0m\n",
      "Key: \u001b[31m  \"\u001b[0m\tPrec: \u001b[32m 55.0\u001b[0m%\tRecall: \u001b[32m 31.9\u001b[0m%\tF-Score: \u001b[32m 40.4\u001b[0m%\u001b[0m\n",
      "Key: \u001b[31m  ;\u001b[0m\tPrec: \u001b[32m  0.0\u001b[0m%\tRecall: \u001b[32m  0.0\u001b[0m%\tF-Score:   N/A\u001b[0m\n",
      "Key: \u001b[31m  ?\u001b[0m\tPrec: \u001b[32m  0.0\u001b[0m%\tRecall: \u001b[32m  0.0\u001b[0m%\tF-Score:   N/A\u001b[0m\n",
      "Key: \u001b[31m  !\u001b[0m\tPrec: \u001b[32m  0.0\u001b[0m%\tRecall: \u001b[32m  0.0\u001b[0m%\tF-Score:   N/A\u001b[0m\n",
      "\n",
      "\n"
     ]
    },
    {
     "name": "stderr",
     "output_type": "stream",
     "text": [
      "349it [14:36, 10.71s/it]"
     ]
    },
    {
     "name": "stdout",
     "output_type": "stream",
     "text": [
      "Epoch 48 Batch 350\n",
      "=================================\n"
     ]
    },
    {
     "name": "stderr",
     "output_type": "stream",
     "text": [
      "\r",
      "350it [14:48, 10.89s/it]"
     ]
    },
    {
     "name": "stdout",
     "output_type": "stream",
     "text": [
      "Key: \u001b[31m<nop>\u001b[0m\tPrec: \u001b[32m 97.2\u001b[0m%\tRecall: \u001b[32m 97.2\u001b[0m%\tF-Score: \u001b[32m 97.2\u001b[0m%\u001b[0m\n",
      "Key: \u001b[31m  '\u001b[0m\tPrec: \u001b[32m 76.8\u001b[0m%\tRecall: \u001b[32m 76.8\u001b[0m%\tF-Score: \u001b[32m 76.8\u001b[0m%\u001b[0m\n",
      "Key: \u001b[31m  .\u001b[0m\tPrec: \u001b[32m 43.8\u001b[0m%\tRecall: \u001b[32m 41.8\u001b[0m%\tF-Score: \u001b[32m 42.8\u001b[0m%\u001b[0m\n",
      "Key: \u001b[31m<cap>\u001b[0m\tPrec: \u001b[32m 66.6\u001b[0m%\tRecall: \u001b[32m 67.6\u001b[0m%\tF-Score: \u001b[32m 67.1\u001b[0m%\u001b[0m\n",
      "Key: \u001b[31m  ,\u001b[0m\tPrec: \u001b[32m 32.1\u001b[0m%\tRecall: \u001b[32m 32.3\u001b[0m%\tF-Score: \u001b[32m 32.2\u001b[0m%\u001b[0m\n",
      "Key: \u001b[31m  ?\u001b[0m\tPrec: \u001b[32m 10.0\u001b[0m%\tRecall: \u001b[32m 12.5\u001b[0m%\tF-Score: \u001b[32m 11.1\u001b[0m%\u001b[0m\n",
      "Key: \u001b[31m  !\u001b[0m\tPrec: \u001b[32m  0.0\u001b[0m%\tRecall: \u001b[32m  0.0\u001b[0m%\tF-Score:   N/A\u001b[0m\n",
      "Key: \u001b[31m  :\u001b[0m\tPrec: \u001b[32m 34.5\u001b[0m%\tRecall: \u001b[32m 40.8\u001b[0m%\tF-Score: \u001b[32m 37.4\u001b[0m%\u001b[0m\n",
      "Key: \u001b[31m  \"\u001b[0m\tPrec: \u001b[32m 43.6\u001b[0m%\tRecall: \u001b[32m 37.5\u001b[0m%\tF-Score: \u001b[32m 40.3\u001b[0m%\u001b[0m\n",
      "Key: \u001b[31m  $\u001b[0m\tPrec: \u001b[32m 67.5\u001b[0m%\tRecall: \u001b[32m 60.0\u001b[0m%\tF-Score: \u001b[32m 63.5\u001b[0m%\u001b[0m\n",
      "Key: \u001b[31m  ;\u001b[0m\tPrec: \u001b[32m  0.0\u001b[0m%\tRecall: \u001b[32m  0.0\u001b[0m%\tF-Score:   N/A\u001b[0m\n",
      "\n",
      "\n"
     ]
    },
    {
     "name": "stderr",
     "output_type": "stream",
     "text": [
      "374it [21:16, 21.98s/it]"
     ]
    },
    {
     "name": "stdout",
     "output_type": "stream",
     "text": [
      "Epoch 48 Batch 375\n",
      "=================================\n"
     ]
    },
    {
     "name": "stderr",
     "output_type": "stream",
     "text": [
      "\r",
      "375it [21:41, 22.87s/it]"
     ]
    },
    {
     "name": "stdout",
     "output_type": "stream",
     "text": [
      "Key: \u001b[31m<nop>\u001b[0m\tPrec: \u001b[32m 97.3\u001b[0m%\tRecall: \u001b[32m 97.3\u001b[0m%\tF-Score: \u001b[32m 97.3\u001b[0m%\u001b[0m\n",
      "Key: \u001b[31m<cap>\u001b[0m\tPrec: \u001b[32m 68.2\u001b[0m%\tRecall: \u001b[32m 67.6\u001b[0m%\tF-Score: \u001b[32m 67.9\u001b[0m%\u001b[0m\n",
      "Key: \u001b[31m  ,\u001b[0m\tPrec: \u001b[32m 33.1\u001b[0m%\tRecall: \u001b[32m 36.2\u001b[0m%\tF-Score: \u001b[32m 34.6\u001b[0m%\u001b[0m\n",
      "Key: \u001b[31m  .\u001b[0m\tPrec: \u001b[32m 45.7\u001b[0m%\tRecall: \u001b[32m 42.6\u001b[0m%\tF-Score: \u001b[32m 44.1\u001b[0m%\u001b[0m\n",
      "Key: \u001b[31m  '\u001b[0m\tPrec: \u001b[32m 76.8\u001b[0m%\tRecall: \u001b[32m 76.5\u001b[0m%\tF-Score: \u001b[32m 76.6\u001b[0m%\u001b[0m\n",
      "Key: \u001b[31m  :\u001b[0m\tPrec: \u001b[32m 40.7\u001b[0m%\tRecall: \u001b[32m 44.6\u001b[0m%\tF-Score: \u001b[32m 42.6\u001b[0m%\u001b[0m\n",
      "Key: \u001b[31m  ;\u001b[0m\tPrec: \u001b[32m  0.0\u001b[0m%\tRecall: \u001b[32m  0.0\u001b[0m%\tF-Score:   N/A\u001b[0m\n",
      "Key: \u001b[31m  !\u001b[0m\tPrec: \u001b[32m  0.0\u001b[0m%\tRecall: \u001b[32m  0.0\u001b[0m%\tF-Score:   N/A\u001b[0m\n",
      "Key: \u001b[31m  ?\u001b[0m\tPrec: \u001b[32m  0.0\u001b[0m%\tRecall: \u001b[32m  0.0\u001b[0m%\tF-Score:   N/A\u001b[0m\n",
      "Key: \u001b[31m  $\u001b[0m\tPrec: \u001b[32m 52.9\u001b[0m%\tRecall: \u001b[32m 55.1\u001b[0m%\tF-Score: \u001b[32m 54.0\u001b[0m%\u001b[0m\n",
      "Key: \u001b[31m  \"\u001b[0m\tPrec: \u001b[32m 37.0\u001b[0m%\tRecall: \u001b[32m 28.2\u001b[0m%\tF-Score: \u001b[32m 32.0\u001b[0m%\u001b[0m\n",
      "\n",
      "\n"
     ]
    },
    {
     "name": "stderr",
     "output_type": "stream",
     "text": [
      "380it [24:13, 31.83s/it]\n"
     ]
    }
   ],
   "source": [
    "learning_rate = 0.5e-4\n",
    "egdt.setup_training(learning_rate)\n",
    "\n",
    "seq_length = 500\n",
    "\n",
    "for epoch_num in range(24, 48):\n",
    "    \n",
    "    \n",
    "    for batch_ind, (max_len, sources) in enumerate(tqdm(data.batch_gen(data.train_gen(), batch_size))):\n",
    "        \n",
    "        # prepare the input and output chunks\n",
    "        input_srcs = []; punc_targs = []\n",
    "        for chunk in sources:\n",
    "            input_source, punctuation_target = data.extract_punc(chunk, egdt.char2vec.chars, egdt.output_char2vec.chars)\n",
    "            input_srcs.append(input_source)\n",
    "            punc_targs.append(punctuation_target)        \n",
    "        \n",
    "        # at the begining of the file, reset hidden to zero\n",
    "        egdt.init_hidden_(random=False)\n",
    "        seq_len = data.fuzzy_chunk_len(max_len, seq_length)\n",
    "        for input_, target_ in zip(zip(*[data.chunk_gen(seq_len, src) for src in input_srcs]), \n",
    "                                   zip(*[data.chunk_gen(seq_len, tar, [\"<nop>\"]) for tar in punc_targs])):\n",
    "            \n",
    "            try:\n",
    "                egdt.forward(input_, target_)\n",
    "                egdt.descent()\n",
    "                    \n",
    "            except KeyError:\n",
    "                print(source)\n",
    "                raise KeyError\n",
    "        \n",
    "        if batch_ind%25 == 24:\n",
    "            if batch_ind%100 == 99:\n",
    "                clear_output(wait=True)\n",
    "            \n",
    "            print('Epoch {:d} Batch {}'.format(epoch_num + 1, batch_ind + 1))\n",
    "            print(\"=================================\")\n",
    "            punctuation_output = egdt.output_chars()\n",
    "            plot_progress(egdt.embeded[0,:400].data.numpy().T, \n",
    "                          egdt.output[0,:400].data.numpy().T, \n",
    "                          egdt.softmax[0,:400].data.numpy().T,\n",
    "                          np.array(egdt.losses))\n",
    "\n",
    "            metric.print_pc(utils.flatten(punctuation_output), utils.flatten(target_) )\n",
    "            print('\\n')\n",
    "            \n",
    "        if batch_ind%100 == 99:\n",
    "            \n",
    "            validate_target = data.apply_punc(input_[0], target_[0])\n",
    "            result = data.apply_punc(input_[0], \n",
    "                                     punctuation_output[0] )\n",
    "            print(validate_target)\n",
    "            print(result)\n",
    "            \n",
    "    # print('Dev Set Performance {:d}'.format(epoch_num))\n",
    "    egdt.save('./data/engadget_train_epoch-{}_batch-{}.tar'.format(epoch_num + 1, batch_ind + 1))"
   ]
  },
  {
   "cell_type": "markdown",
   "metadata": {
    "deletable": true,
    "editable": true,
    "run_control": {
     "frozen": false,
     "read_only": false
    }
   },
   "source": [
    "Let's take a look at the performance!"
   ]
  },
  {
   "cell_type": "code",
   "execution_count": 58,
   "metadata": {
    "ExecuteTime": {
     "end_time": "2017-03-30T19:11:23.826187Z",
     "start_time": "2017-03-30T14:11:23.248846-05:00"
    },
    "collapsed": false,
    "deletable": true,
    "editable": true,
    "run_control": {
     "frozen": false,
     "read_only": false
    }
   },
   "outputs": [],
   "source": [
    "egdt.save('./data/Gru_Engadget_epch-48.tar')"
   ]
  },
  {
   "cell_type": "code",
   "execution_count": 20,
   "metadata": {
    "ExecuteTime": {
     "end_time": "2017-03-30T07:16:59.391920Z",
     "start_time": "2017-03-30T02:16:59.311743-05:00"
    },
    "collapsed": false,
    "deletable": true,
    "editable": true,
    "run_control": {
     "frozen": false,
     "read_only": false
    }
   },
   "outputs": [
    {
     "name": "stdout",
     "output_type": "stream",
     "text": [
      "Epoch 24 Batch 760\n",
      "=================================\n",
      "Key: \u001b[31m<nop>\u001b[0m\tPrec: \u001b[32m 97.4\u001b[0m%\tRecall: \u001b[32m 97.5\u001b[0m%\tF-Score: \u001b[32m 97.4\u001b[0m%\u001b[0m\n",
      "Key: \u001b[31m  .\u001b[0m\tPrec: \u001b[32m 36.5\u001b[0m%\tRecall: \u001b[32m 37.8\u001b[0m%\tF-Score: \u001b[32m 37.1\u001b[0m%\u001b[0m\n",
      "Key: \u001b[31m<cap>\u001b[0m\tPrec: \u001b[32m 64.9\u001b[0m%\tRecall: \u001b[32m 62.2\u001b[0m%\tF-Score: \u001b[32m 63.5\u001b[0m%\u001b[0m\n",
      "Key: \u001b[31m  ,\u001b[0m\tPrec: \u001b[32m 29.3\u001b[0m%\tRecall: \u001b[32m 29.3\u001b[0m%\tF-Score: \u001b[32m 29.3\u001b[0m%\u001b[0m\n",
      "Key: \u001b[31m  '\u001b[0m\tPrec: \u001b[32m 76.0\u001b[0m%\tRecall: \u001b[32m 75.5\u001b[0m%\tF-Score: \u001b[32m 75.7\u001b[0m%\u001b[0m\n",
      "Key: \u001b[31m  \"\u001b[0m\tPrec: \u001b[32m 53.1\u001b[0m%\tRecall: \u001b[32m 54.8\u001b[0m%\tF-Score: \u001b[32m 54.0\u001b[0m%\u001b[0m\n",
      "Key: \u001b[31m  !\u001b[0m\tPrec: \u001b[32m 20.0\u001b[0m%\tRecall: \u001b[32m 33.3\u001b[0m%\tF-Score: \u001b[32m 25.0\u001b[0m%\u001b[0m\n",
      "Key: \u001b[31m  :\u001b[0m\tPrec: \u001b[32m 48.0\u001b[0m%\tRecall: \u001b[32m 44.4\u001b[0m%\tF-Score: \u001b[32m 46.2\u001b[0m%\u001b[0m\n",
      "Key: \u001b[31m  ?\u001b[0m\tPrec: \u001b[32m  0.0\u001b[0m%\tRecall: \u001b[32m  0.0\u001b[0m%\tF-Score:   N/A\u001b[0m\n",
      "Key: \u001b[31m  $\u001b[0m\tPrec: \u001b[32m 61.5\u001b[0m%\tRecall: \u001b[32m 38.1\u001b[0m%\tF-Score: \u001b[32m 47.1\u001b[0m%\u001b[0m\n",
      "Key: \u001b[31m  ;\u001b[0m\tPrec: \u001b[32m  0.0\u001b[0m%\tRecall: \u001b[32m  0.0\u001b[0m%\tF-Score:   N/A\u001b[0m\n"
     ]
    }
   ],
   "source": [
    "print('Epoch {:d} Batch {} Training P/R'.format(epoch_num + 1, batch_ind + 1))\n",
    "print(\"=================================\")\n",
    "punctuation_output = egdt.output_chars()\n",
    "_ = metric.print_pc(utils.flatten(punctuation_output), utils.flatten(target_) )"
   ]
  },
  {
   "cell_type": "markdown",
   "metadata": {
    "deletable": true,
    "editable": true,
    "run_control": {
     "frozen": false,
     "read_only": false
    }
   },
   "source": [
    "## Performance\n",
    "\n",
    "Here is the performance after 24 and 48 epochs of training. "
   ]
  },
  {
   "cell_type": "code",
   "execution_count": 28,
   "metadata": {
    "ExecuteTime": {
     "end_time": "2017-03-30T07:52:49.480465Z",
     "start_time": "2017-03-30T02:52:25.008323-05:00"
    },
    "collapsed": false,
    "deletable": true,
    "editable": true,
    "run_control": {
     "frozen": false,
     "read_only": true
    }
   },
   "outputs": [
    {
     "name": "stderr",
     "output_type": "stream",
     "text": [
      "25it [00:24,  4.14s/it]"
     ]
    },
    {
     "name": "stdout",
     "output_type": "stream",
     "text": [
      "Epoch 24 Batch 760 Test P/R\n",
      "=================================\n",
      "Key: \u001b[31m<nop>\u001b[0m\tPrec: \u001b[32m 97.1\u001b[0m%\tRecall: \u001b[32m 97.8\u001b[0m%\tF-Score: \u001b[32m 97.4\u001b[0m%\u001b[0m\n",
      "Key: \u001b[31m<cap>\u001b[0m\tPrec: \u001b[32m 68.6\u001b[0m%\tRecall: \u001b[32m 57.8\u001b[0m%\tF-Score: \u001b[32m 62.7\u001b[0m%\u001b[0m\n",
      "Key: \u001b[31m  ,\u001b[0m\tPrec: \u001b[32m 30.8\u001b[0m%\tRecall: \u001b[32m 30.9\u001b[0m%\tF-Score: \u001b[32m 30.9\u001b[0m%\u001b[0m\n",
      "Key: \u001b[31m  .\u001b[0m\tPrec: \u001b[32m 43.7\u001b[0m%\tRecall: \u001b[32m 38.3\u001b[0m%\tF-Score: \u001b[32m 40.8\u001b[0m%\u001b[0m\n",
      "Key: \u001b[31m  '\u001b[0m\tPrec: \u001b[32m 76.9\u001b[0m%\tRecall: \u001b[32m 80.2\u001b[0m%\tF-Score: \u001b[32m 78.5\u001b[0m%\u001b[0m\n",
      "Key: \u001b[31m  :\u001b[0m\tPrec: \u001b[32m 10.3\u001b[0m%\tRecall: \u001b[32m  6.1\u001b[0m%\tF-Score: \u001b[32m  7.7\u001b[0m%\u001b[0m\n",
      "Key: \u001b[31m  \"\u001b[0m\tPrec: \u001b[32m 26.9\u001b[0m%\tRecall: \u001b[32m 45.1\u001b[0m%\tF-Score: \u001b[32m 33.7\u001b[0m%\u001b[0m\n",
      "Key: \u001b[31m  $\u001b[0m\tPrec: \u001b[32m 64.3\u001b[0m%\tRecall: \u001b[32m 61.6\u001b[0m%\tF-Score: \u001b[32m 62.9\u001b[0m%\u001b[0m\n",
      "Key: \u001b[31m  ;\u001b[0m\tPrec: \u001b[32m  0.0\u001b[0m%\tRecall: \u001b[32m  0.0\u001b[0m%\tF-Score:   N/A\u001b[0m\n",
      "Key: \u001b[31m  ?\u001b[0m\tPrec: \u001b[32m  0.0\u001b[0m%\tRecall: \u001b[32m  0.0\u001b[0m%\tF-Score:   N/A\u001b[0m\n",
      "Key: \u001b[31m  !\u001b[0m\tPrec: \u001b[32m  0.0\u001b[0m%\tRecall: \u001b[32m  0.0\u001b[0m%\tF-Score:   N/A\u001b[0m\n"
     ]
    },
    {
     "name": "stderr",
     "output_type": "stream",
     "text": [
      "\n"
     ]
    }
   ],
   "source": [
    "punc_outputs = []\n",
    "punc_targets = []\n",
    "for fn, source in tqdm(data.test_gen()):\n",
    "    input_text, punc_target = data.extract_punc(source, input_chars, output_chars)\n",
    "    egdt.model.batch_size = 1\n",
    "    egdt.init_hidden_()\n",
    "    egdt.next_([input_text])\n",
    "    punc_outputs.append(egdt.output_chars()[0])\n",
    "    punc_targets.append(punc_target)\n",
    "    \n",
    "print('Test P/R  Epoch {:d} Batch {}'.format(epoch_num + 1, batch_ind + 1))\n",
    "print(\"=================================\")    \n",
    "_ = metric.print_pc(utils.flatten(punc_outputs), utils.flatten(punc_targets))"
   ]
  },
  {
   "cell_type": "code",
   "execution_count": 59,
   "metadata": {
    "ExecuteTime": {
     "end_time": "2017-03-30T19:18:28.367775Z",
     "start_time": "2017-03-30T14:18:03.062362-05:00"
    },
    "collapsed": false,
    "deletable": true,
    "editable": true,
    "run_control": {
     "frozen": false,
     "read_only": true
    }
   },
   "outputs": [
    {
     "name": "stderr",
     "output_type": "stream",
     "text": [
      "25it [00:25,  4.18s/it]"
     ]
    },
    {
     "name": "stdout",
     "output_type": "stream",
     "text": [
      "Test P/R  Epoch 48 Batch 380\n",
      "=================================\n",
      "Key: \u001b[31m<nop>\u001b[0m\tPrec: \u001b[32m 97.1\u001b[0m%\tRecall: \u001b[32m 98.0\u001b[0m%\tF-Score: \u001b[32m 97.6\u001b[0m%\u001b[0m\n",
      "Key: \u001b[31m<cap>\u001b[0m\tPrec: \u001b[32m 73.2\u001b[0m%\tRecall: \u001b[32m 58.9\u001b[0m%\tF-Score: \u001b[32m 65.3\u001b[0m%\u001b[0m\n",
      "Key: \u001b[31m  ,\u001b[0m\tPrec: \u001b[32m 35.7\u001b[0m%\tRecall: \u001b[32m 32.2\u001b[0m%\tF-Score: \u001b[32m 33.9\u001b[0m%\u001b[0m\n",
      "Key: \u001b[31m  .\u001b[0m\tPrec: \u001b[32m 45.0\u001b[0m%\tRecall: \u001b[32m 39.7\u001b[0m%\tF-Score: \u001b[32m 42.2\u001b[0m%\u001b[0m\n",
      "Key: \u001b[31m  '\u001b[0m\tPrec: \u001b[32m 81.7\u001b[0m%\tRecall: \u001b[32m 83.4\u001b[0m%\tF-Score: \u001b[32m 82.5\u001b[0m%\u001b[0m\n",
      "Key: \u001b[31m  :\u001b[0m\tPrec: \u001b[32m 12.1\u001b[0m%\tRecall: \u001b[32m 10.8\u001b[0m%\tF-Score: \u001b[32m 11.4\u001b[0m%\u001b[0m\n",
      "Key: \u001b[31m  \"\u001b[0m\tPrec: \u001b[32m 25.2\u001b[0m%\tRecall: \u001b[32m 44.8\u001b[0m%\tF-Score: \u001b[32m 32.3\u001b[0m%\u001b[0m\n",
      "Key: \u001b[31m  $\u001b[0m\tPrec: \u001b[32m 51.4\u001b[0m%\tRecall: \u001b[32m 87.8\u001b[0m%\tF-Score: \u001b[32m 64.9\u001b[0m%\u001b[0m\n",
      "Key: \u001b[31m  ;\u001b[0m\tPrec: \u001b[32m  0.0\u001b[0m%\tRecall: \u001b[32m  0.0\u001b[0m%\tF-Score:   N/A\u001b[0m\n",
      "Key: \u001b[31m  ?\u001b[0m\tPrec: \u001b[32m  5.6\u001b[0m%\tRecall: \u001b[32m  4.8\u001b[0m%\tF-Score: \u001b[32m  5.1\u001b[0m%\u001b[0m\n",
      "Key: \u001b[31m  !\u001b[0m\tPrec: \u001b[32m  0.0\u001b[0m%\tRecall: \u001b[32m  0.0\u001b[0m%\tF-Score:   N/A\u001b[0m\n"
     ]
    },
    {
     "name": "stderr",
     "output_type": "stream",
     "text": [
      "\n"
     ]
    }
   ],
   "source": [
    "punc_outputs = []\n",
    "punc_targets = []\n",
    "for fn, source in tqdm(data.test_gen()):\n",
    "    input_text, punc_target = data.extract_punc(source, input_chars, output_chars)\n",
    "    egdt.model.batch_size = 1\n",
    "    egdt.init_hidden_()\n",
    "    egdt.next_([input_text])\n",
    "    punc_outputs.append(egdt.output_chars()[0])\n",
    "    punc_targets.append(punc_target)\n",
    "    \n",
    "print('Test P/R  Epoch {:d} Batch {}'.format(epoch_num + 1, batch_ind + 1))\n",
    "print(\"=================================\")    \n",
    "_ = metric.print_pc(utils.flatten(punc_outputs), utils.flatten(punc_targets))"
   ]
  },
  {
   "cell_type": "markdown",
   "metadata": {
    "deletable": true,
    "editable": true,
    "hide_input": false,
    "run_control": {
     "frozen": false,
     "read_only": false
    }
   },
   "source": [
    "## Now A LIVE Demo using the network to add punctuations to your input! (need to execute this notebook)\n",
    "\n",
    "Run these cells below after training. alternatively, uncomment the cell below to load pre-trained parameters."
   ]
  },
  {
   "cell_type": "code",
   "execution_count": 1,
   "metadata": {
    "ExecuteTime": {
     "end_time": "2017-03-30T20:39:57.840874Z",
     "start_time": "2017-03-30T15:39:57.830730-05:00"
    },
    "collapsed": false,
    "deletable": true,
    "editable": true,
    "run_control": {
     "frozen": false,
     "read_only": false
    }
   },
   "outputs": [],
   "source": [
    "from ipywidgets import widgets\n",
    "from IPython.display import display, clear_output"
   ]
  },
  {
   "cell_type": "code",
   "execution_count": null,
   "metadata": {
    "collapsed": false,
    "deletable": true,
    "editable": true,
    "run_control": {
     "frozen": false,
     "read_only": false
    }
   },
   "outputs": [],
   "source": [
    "# egdt.load('./data/Gru_Engadget_epch-48.tar')"
   ]
  },
  {
   "cell_type": "markdown",
   "metadata": {
    "deletable": true,
    "editable": true,
    "run_control": {
     "frozen": false,
     "read_only": false
    }
   },
   "source": [
    "**Note**: Again, using a zero initial state for the hidden state gives a much better result for the prediction."
   ]
  },
  {
   "cell_type": "code",
   "execution_count": 48,
   "metadata": {
    "ExecuteTime": {
     "end_time": "2017-03-30T08:37:18.146106Z",
     "start_time": "2017-03-30T03:37:18.066217-05:00"
    },
    "collapsed": false,
    "deletable": true,
    "editable": true,
    "run_control": {
     "frozen": false,
     "read_only": false
    }
   },
   "outputs": [
    {
     "name": "stdout",
     "output_type": "stream",
     "text": [
      "Demo P/R (Epoch 24 Batch 760 )\n",
      "=================================\n",
      "Key: \u001b[31m<cap>\u001b[0m\tPrec: \u001b[32m 66.7\u001b[0m%\tRecall: \u001b[32m100.0\u001b[0m%\tF-Score: \u001b[32m 80.0\u001b[0m%\u001b[0m\n",
      "Key: \u001b[31m<nop>\u001b[0m\tPrec: \u001b[32m 96.9\u001b[0m%\tRecall: \u001b[32m 96.9\u001b[0m%\tF-Score: \u001b[32m 96.9\u001b[0m%\u001b[0m\n",
      "Key: \u001b[31m  '\u001b[0m\tPrec: \u001b[32m100.0\u001b[0m%\tRecall: \u001b[32m 66.7\u001b[0m%\tF-Score: \u001b[32m 80.0\u001b[0m%\u001b[0m\n",
      "Key: \u001b[31m  .\u001b[0m\tPrec: \u001b[32m  0.0\u001b[0m%\tRecall: \u001b[32m  0.0\u001b[0m%\tF-Score:   N/A\u001b[0m\n",
      "\n",
      "This won't be a simple sentense, it doesn't have puntuations.\n",
      "\n",
      "I'm not sure \n"
     ]
    }
   ],
   "source": [
    "def predict_next(source, gen_length=None, temperature=0.05):\n",
    "    global epoch_num\n",
    "    global batch_ind\n",
    "    \n",
    "    input_text, punc_target = data.extract_punc(source, input_chars, output_chars)\n",
    "    egdt.model.batch_size = 1\n",
    "    egdt.init_hidden_()\n",
    "    egdt.next_([input_text])\n",
    "    punc_output = egdt.output_chars(temperature=temperature)[0]\n",
    "    result = data.apply_punc(input_text, punc_output)\n",
    "    \n",
    "    clear_output()\n",
    "    print('Demo P/R (Epoch {:d} Batch {} )'.format(epoch_num + 1, batch_ind + 1))\n",
    "    print(\"=================================\")    \n",
    "    _ = metric.print_pc(punc_output, punc_target)\n",
    "    print(\"\\n\" + result)\n",
    "\n",
    "predict_next(\"This won't be a simple sentense. It doesnt have puntuations\\n\\nI'm not sure. \", 200, 1)"
   ]
  },
  {
   "cell_type": "code",
   "execution_count": 51,
   "metadata": {
    "ExecuteTime": {
     "end_time": "2017-03-30T08:51:08.825500Z",
     "start_time": "2017-03-30T03:51:08.792664-05:00"
    },
    "collapsed": false,
    "deletable": true,
    "editable": true,
    "run_control": {
     "frozen": false,
     "read_only": false
    },
    "scrolled": false
   },
   "outputs": [
    {
     "name": "stdout",
     "output_type": "stream",
     "text": [
      "Demo P/R (Epoch 24 Batch 760 )\n",
      "=================================\n",
      "Key: \u001b[31m<cap>\u001b[0m\tPrec: \u001b[32m 65.0\u001b[0m%\tRecall: \u001b[32m 61.9\u001b[0m%\tF-Score: \u001b[32m 63.4\u001b[0m%\u001b[0m\n",
      "Key: \u001b[31m<nop>\u001b[0m\tPrec: \u001b[32m 97.4\u001b[0m%\tRecall: \u001b[32m 96.9\u001b[0m%\tF-Score: \u001b[32m 97.2\u001b[0m%\u001b[0m\n",
      "Key: \u001b[31m  .\u001b[0m\tPrec: \u001b[32m 16.7\u001b[0m%\tRecall: \u001b[32m100.0\u001b[0m%\tF-Score: \u001b[32m 28.6\u001b[0m%\u001b[0m\n",
      "Key: \u001b[31m  '\u001b[0m\tPrec: \u001b[32m100.0\u001b[0m%\tRecall: \u001b[32m100.0\u001b[0m%\tF-Score: \u001b[32m100.0\u001b[0m%\u001b[0m\n",
      "Key: \u001b[31m  ,\u001b[0m\tPrec: \u001b[32m 50.0\u001b[0m%\tRecall: \u001b[32m 40.0\u001b[0m%\tF-Score: \u001b[32m 44.4\u001b[0m%\u001b[0m\n",
      "\n",
      "SamsunG: GalaXY Note II, was a complete disaster, this is what happens when you don't control the entire softwarehardware stack Unlike Apple, Samsung can't optimize the Android OS as aggressively as Apple does to the IOs and as a result the power consumption can't be optimized, and the batter capacity is pushed to the brim, it turned out that lithium batteries Don't like to be pushed to the Brim. and When they are They explode   \n"
     ]
    }
   ],
   "source": [
    "text_input = widgets.Text()\n",
    "display(text_input)\n",
    "\n",
    "def handle_submit(sender):\n",
    "    #print(text_input.value)\n",
    "    predict_next(text_input.value, 2000, temperature=1)\n",
    "\n",
    "print(\"Type in a sentence with punctuations just as you would normally have!\\nThe demo will strip off those punctuations, and try to predict them.\")\n",
    "\n",
    "text_input.on_submit(handle_submit)"
   ]
  },
  {
   "cell_type": "markdown",
   "metadata": {
    "deletable": true,
    "editable": true,
    "run_control": {
     "frozen": false,
     "read_only": false
    }
   },
   "source": [
    "The demo looks pretty good ;-) "
   ]
  },
  {
   "cell_type": "code",
   "execution_count": null,
   "metadata": {
    "collapsed": false,
    "deletable": true,
    "editable": true,
    "run_control": {
     "frozen": false,
     "read_only": false
    }
   },
   "outputs": [],
   "source": []
  },
  {
   "cell_type": "code",
   "execution_count": null,
   "metadata": {
    "collapsed": false,
    "deletable": true,
    "editable": true,
    "run_control": {
     "frozen": false,
     "read_only": false
    }
   },
   "outputs": [],
   "source": []
  }
 ],
 "metadata": {
  "_draft": {
   "nbviewer_url": "https://gist.github.com/e261821a98490523e543170cd7229b8f"
  },
  "anaconda-cloud": {},
  "gist": {
   "data": {
    "description": "pytorch_playground/engadget_rnn/Learning Punctuations by reading Engadget.ipynb",
    "public": true
   },
   "id": "e261821a98490523e543170cd7229b8f"
  },
  "hide_input": false,
  "kernelspec": {
   "display_name": "deep-learning-python3",
   "language": "python",
   "name": "deep-learning"
  },
  "language_info": {
   "codemirror_mode": {
    "name": "ipython",
    "version": 3
   },
   "file_extension": ".py",
   "mimetype": "text/x-python",
   "name": "python",
   "nbconvert_exporter": "python",
   "pygments_lexer": "ipython3",
   "version": "3.6.0"
  },
  "toc": {
   "colors": {
    "hover_highlight": "#DAA520",
    "running_highlight": "#FF0000",
    "selected_highlight": "#FFD700"
   },
   "moveMenuLeft": true,
   "nav_menu": {
    "height": "107px",
    "width": "253px"
   },
   "navigate_menu": true,
   "number_sections": false,
   "sideBar": true,
   "threshold": 4,
   "toc_cell": false,
   "toc_position": {
    "height": "556px",
    "left": "0px",
    "right": "auto",
    "top": "130px",
    "width": "413px"
   },
   "toc_section_display": "block",
   "toc_window_display": true,
   "widenNotebook": false
  },
  "widgets": {
   "state": {
    "17298efebe594dc1b94fb6ba924f3c4b": {
     "views": [
      {
       "cell_index": 9
      }
     ]
    },
    "7e82dbc7be6b4d6a824f1c93e8f5826e": {
     "views": [
      {
       "cell_index": 10
      }
     ]
    }
   },
   "version": "1.2.0"
  }
 },
 "nbformat": 4,
 "nbformat_minor": 0
}
