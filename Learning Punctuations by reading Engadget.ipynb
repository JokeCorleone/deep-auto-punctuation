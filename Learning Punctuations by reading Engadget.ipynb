{
 "cells": [
  {
   "cell_type": "markdown",
   "metadata": {
    "deletable": true,
    "editable": true,
    "run_control": {
     "frozen": false,
     "read_only": false
    }
   },
   "source": [
    "# Learning Auto-Punctuation by Reading Engadget Articles\n",
    "\n",
    "## Overview\n",
    "\n",
    "This project trains a bi-directional GRU to learn how to automatically punctuate a sentence by reading it character by character. The set of operation it learns include:\n",
    "```\n",
    "capitalization: <cap>\n",
    "         comma:  ,\n",
    "        period:  .\n",
    "   dollar sign:  $\n",
    "     semicolon:  ;\n",
    "         colon:  :\n",
    "  single quote:  '\n",
    "  double quote:  \"\n",
    "  no operation: <nop>\n",
    "```\n",
    "\n",
    "## Setup and Considerations\n",
    "\n",
    "The initial setup I began with was a single uni-direction GRU, with input domain [A-z0-9] and output domain of the ops listed above. My hope at that time was to simply train the RNN to learn correcponding operations. A few things jumped out of the experiment:\n",
    "\n",
    "1. **Use bi-directional GRU.** with the uni-direction GRU, the network quickly learned capitalization of terms, but it had difficulties with single quote. In words like \"I'm\", \"won't\", there are simply too much ambiguity from reading only the forward part of the word. The network didn't have enough information to properly infer such punctuations.\n",
    "    \n",
    "    So I decided to change the uni-direction GRU to bi-direction GRU. The result is much better prediction for single quotes in concatenations.\n",
    "\n",
    "    the network is still training, but the precision and recall of single quote is nowt close to 80%.\n",
    "    \n",
    "    This use of bi-directional GRU is standard in NLP processes. But it is nice to experience first-hand the difference in performance and training.\n",
    "    \n",
    "    A side effect of this switch is that the network now runs almost 2x slower. This leads to the next item in this list:\n",
    "2. **Use the smallest model possible.** At the very begining, my input embeding was borrowed from the Shakespeare model, so the input space include both capital alphabet as well as lower-case ones. What I didn't realize was that I didn't need the capital cases because all inputs were lower-case. \n",
    "    \n",
    "    So when the training became painfully slow after I switch to bi-directional GRU, I looked for ways to make the training faster. A look at the input embeding made it obvious that half of the embedding space wasn't needed. \n",
    "\n",
    "    Removing the lower case bases made the traing around 3x faster. This is a rough estimate since I also decided to redownload the data set at the same time on the same machine.\n",
    "    \n",
    "3. **Text formatting**. Proper formating of input text crawed from Engadget.com was crucial, especially because the occurrence of a lot of the puncuation was low and this is a character-level model. You can take a look at the crawed text inside [./engadget_data_tar.gz](./engadget_data_tar.gz). \n",
    "\n",
    "4. **Async and Multi-process crawing is much much faster**. I initially wrote the engadget crawer as a single threaded class. Because the python `requests` library is synchronous, the crawler spent virtually all time waiting for the `GET` requests.\n",
    "    \n",
    "    This could be made a *lot* faster by parallelizing the crawling, or use proper async pattern. \n",
    "\n",
    "    This thought came to me pretty late during the second crawl so I did not implement it. But for future work, parallel and async crawler is going to be on the todo list.\n",
    "\n",
    "5. **Using Precision/Recall in a multi-class scenario**. The setup makes the reasonable assumption that each operation can only be applied mutually exclusively. The accuracy metric used here are **precision/recall** and the **F-score**, both commonly used in the literature<sup>1,</sup> <sup>2</sup>. The P/R and F-score are implemented according to wikipedia <sup>3,</sup> <sup>4</sup>.\n",
    "    \n",
    "    example accuracy output:\n",
    "    ```\n",
    "    Key: <nop>\tPrec:  98.9%\tRecall:  97.8%\tF-Score:  98.4%\n",
    "    Key:   ,\tPrec:   0.0%\tRecall:   0.0%\tF-Score:   N/A\n",
    "    Key: <cap>\tPrec: 100.0%\tRecall:  60.0%\tF-Score:  75.0%\n",
    "    Key:   .\tPrec:   0.0%\tRecall:   0.0%\tF-Score:   N/A\n",
    "    Key:   '\tPrec:  66.7%\tRecall: 100.0%\tF-Score:  80.0%\n",
    "    ```\n",
    "    \n",
    "6. **Hidden Layer initialization**: In the past I've found it was easier for the neural network to generate good results when both the training and the generation starts with a zero initial state. In this case because we are computing time limited, I zero the hidden layer at the begining of each file. \n",
    "\n",
    "## Data and Cross-Validation\n",
    "\n",
    "The entire dataset is composed of around 50k blog posts from engadget. I randomly selected 49k of these as my training set, 50 as my validation set, and around 0.5k as my test set. The training is a bit slow on an Intel i7 desktop, averaging 1.5s/file depending on the length of the file. As a result, it takes about a day to go through the entire training set.\n",
    "\n",
    "## Todo:\n",
    "- [ ] execute test after training\n",
    "\n",
    "## Done:\n",
    "- [x] a generative demo\n",
    "- [x] add validation (once an hour or so)\n",
    "- [x] add accuracy metric, use precision/recall.\n",
    "- [x] change to bi-directional GRU\n",
    "- [x] get data\n",
    "- [x] Add temperature to generator\n",
    "- [x] add self-feeding generator\n",
    "- [x] get training to work\n",
    "- [x] use optim and Adam\n",
    "\n",
    "## References\n",
    "1: https://www.aclweb.org/anthology/D/D16/D16-1111.pdf  \n",
    "2: https://phon.ioc.ee/dokuwiki/lib/exe/fetch.php?media=people:tanel:interspeech2015-paper-punct.pdf  \n",
    "3: https://en.wikipedia.org/wiki/precision_and_recall  \n",
    "4: https://en.wikipedia.org/wiki/F1_score  "
   ]
  },
  {
   "cell_type": "code",
   "execution_count": 1,
   "metadata": {
    "ExecuteTime": {
     "end_time": "2017-03-27T11:53:37.667767Z",
     "start_time": "2017-03-27T06:53:37.379600-05:00"
    },
    "collapsed": false,
    "deletable": true,
    "editable": true,
    "run_control": {
     "frozen": false,
     "read_only": false
    }
   },
   "outputs": [],
   "source": [
    "import torch\n",
    "from torch.autograd import Variable\n",
    "import torch.nn as nn\n",
    "import torch.nn.functional as F\n",
    "import torch.optim as optim\n",
    "\n",
    "from utils import forward_tracer, backward_tracer, Char2Vec, num_flat_features\n",
    "\n",
    "import matplotlib.pyplot as plt\n",
    "%matplotlib inline\n",
    "%config InlineBackend.figure_format = 'retina'\n",
    "\n",
    "import numpy as np\n",
    "\n",
    "from tqdm import tqdm\n",
    "\n",
    "from IPython.display import clear_output, HTML\n",
    "\n",
    "import os\n",
    "\n",
    "from bs4 import BeautifulSoup"
   ]
  },
  {
   "cell_type": "code",
   "execution_count": 2,
   "metadata": {
    "ExecuteTime": {
     "end_time": "2017-03-27T11:53:37.671408Z",
     "start_time": "2017-03-27T06:53:37.668962-05:00"
    },
    "collapsed": false,
    "deletable": true,
    "editable": true,
    "run_control": {
     "frozen": false,
     "read_only": false
    }
   },
   "outputs": [],
   "source": [
    "def get_content(fn):\n",
    "    with open(fn, 'r') as f:\n",
    "        source = \"\"\n",
    "        for line in f:\n",
    "            source += line\n",
    "    return source"
   ]
  },
  {
   "cell_type": "code",
   "execution_count": 3,
   "metadata": {
    "ExecuteTime": {
     "end_time": "2017-03-27T11:53:37.739662Z",
     "start_time": "2017-03-27T06:53:37.672542-05:00"
    },
    "collapsed": false,
    "deletable": true,
    "editable": true,
    "run_control": {
     "frozen": false,
     "read_only": false
    }
   },
   "outputs": [
    {
     "data": {
      "text/plain": [
       "('number of files: ', 49531)"
      ]
     },
     "execution_count": 3,
     "metadata": {},
     "output_type": "execute_result"
    }
   ],
   "source": [
    "_, _, files = list(os.walk(\"./engadget_data\"))[0]\n",
    "\"number of files: \", len(files)"
   ]
  },
  {
   "cell_type": "code",
   "execution_count": null,
   "metadata": {
    "ExecuteTime": {
     "start_time": "2017-03-27T18:07:12.650Z"
    },
    "collapsed": false,
    "deletable": true,
    "editable": true,
    "run_control": {
     "frozen": false,
     "read_only": false
    },
    "scrolled": true
   },
   "outputs": [],
   "source": [
    "def source_gen(path=\"./engadget_data\", start=None, end=None):\n",
    "    child, folders, files = list(os.walk(path))[0]\n",
    "    for fn in files:\n",
    "        if fn[0] is \".\":\n",
    "            pass\n",
    "        else: \n",
    "            src = get_content(\"./engadget_data/\" + fn)\n",
    "            soup = BeautifulSoup(src, 'html.parser')\n",
    "            src = soup.getText()\n",
    "            yield fn, src\n",
    "def train_gen():\n",
    "    yield from source_gen(end=49000)\n",
    "def validation_gen():\n",
    "    yield from source_gen(start=49000, end=49050)\n",
    "def test_gen():\n",
    "    yield from source_gen(start=49050)"
   ]
  },
  {
   "cell_type": "code",
   "execution_count": 5,
   "metadata": {
    "ExecuteTime": {
     "end_time": "2017-03-27T11:53:37.811010Z",
     "start_time": "2017-03-27T06:53:37.747735-05:00"
    },
    "collapsed": false,
    "deletable": true,
    "editable": true,
    "run_control": {
     "frozen": false,
     "read_only": false
    }
   },
   "outputs": [
    {
     "name": "stdout",
     "output_type": "stream",
     "text": [
      "\n",
      " HTC is making a two-pronged attack on Windows Phone 8, and while it may not match up to the specs on its new flagship, the Windows Phone 8S by HTC (yes, that's the official moniker) has some charm all of its own. The screen is a pretty underwhelming Gorilla Glass-coated 4-inch WVGA LCD, with a similarly middleweight 5-megapixel camera peering out from the other side. Given that it's looking to be priced closer to the One V than the One S, we're not all that surprised. The phone itself is a good-looking slab, thanks to the breezy color schemes and while the build is certainly solid enough, we'd be hard-pressed to put it in league with the 8X, which felt at home in our hand from the start. The 8S is cocooned in a matte plastic finish, arriving in four different color options -- depending on carrier and territory.\n",
      "\n",
      " The two-tone color scheme, aside from a few color licks around the lens and ear piece, keeps the second color limited to the bottom edge and the detachable cap. This offers access to the microSD slot (upgrading the built-in 4GB of storage up to 32GB), but like the 8X, no access to the battery. Yep, these new Windows Phones look nothing like HTC's One series, and while the same design studio is responsible, this time, it took its inspiration from Microsoft's tile interface. There's a dual-core 1GHz Snapdragon S4 processor inside, but the phone wasn't quite ready to be put completely through its paces. While the software was still locked down, you can take a video tour -- and read more of our hardware impressions -- after the break.\n",
      "\n",
      "\n",
      "\n",
      "\n",
      " \n",
      " Unfortunately, until Windows Phone 8 gets its official release next month, HTC is keeping the software out of bounds. There are some things we can glean from the specifications of the device, however, including the lack of a front-facing camera on the 8S. Given that the Microsoft-owned Skype looks likely to be a core feature of the new Windows mobile OS, it seems a shame to not include -- if not the wide-angled front-facer of the 8X -- then something a little tamer. While HTC has apparently entered into a \"close relationship\" with Microsoft and Windows Phone 8, there will be nothing to match the scale of HTC's Sense additions to Android. You can expect an FM radio inside, while the Windows Phone staple, a two-stage camera button, is also reliably housed along the right edge with the volume rocker. The power button is along that tapered top edge, alongside the headphone socket, while charging and data transfer is handled by the micro-USB port along the bottom.\n",
      "\n",
      " That colored strip along the base also reminds us ever so slightly of the Xperia U from Sony, which isn't necessarily a bad thing. At least, if nothing else, we can be sure that mid-range phone designers think the cool kids want colored chins. That very same section houses the central Windows key (complete with new logo) as well as back button and search key. These are touch sensitive, so fear not, the design remains flush and lip / ridge free. If you flip the phone over, and remain gazing at the derriere, you'll be greeted with the familiar beats logo. The 8S might not have the deep integration, and extra amplification that the 8X sports, but the Doctor's touch is still present here, meaning that extra musical \"oomph\" is also on offer.\n",
      "\n",
      " What else is there to say about the Windows Phone 8S? Well, much like its bigger X-rated sibling, we won't really know until that shiny new operating system gets to see the light of day. Until then all we know is that this is a bit of a curious cocktail. Simple, solid, geometric design, middle-weight features and a few dashes of colorful spice to make it easier on the eye. We just won't know the kick it holds until we've spent some time with it.\n",
      "\n",
      " James Trew contributed to this report.\n",
      "\n",
      "\n"
     ]
    }
   ],
   "source": [
    "for fn, text in train_gen():\n",
    "    print(text)\n",
    "    break"
   ]
  },
  {
   "cell_type": "markdown",
   "metadata": {
    "deletable": true,
    "editable": true,
    "run_control": {
     "frozen": false,
     "read_only": false
    }
   },
   "source": [
    "## Data Preparation\n",
    "\n",
    "Here we build up generators for batches and take a quick look at the data. I collect all of the different characters that occurs in the data, and plot then ordered by the appearance frequency. It looks like some Japanese and Korean article got mixed in."
   ]
  },
  {
   "cell_type": "code",
   "execution_count": 6,
   "metadata": {
    "ExecuteTime": {
     "end_time": "2017-03-27T11:53:37.813750Z",
     "start_time": "2017-03-27T06:53:37.812040-05:00"
    },
    "collapsed": false,
    "deletable": true,
    "editable": true,
    "run_control": {
     "frozen": false,
     "read_only": false
    }
   },
   "outputs": [],
   "source": [
    "import math"
   ]
  },
  {
   "cell_type": "code",
   "execution_count": 7,
   "metadata": {
    "ExecuteTime": {
     "end_time": "2017-03-27T11:53:37.830039Z",
     "start_time": "2017-03-27T06:53:37.814797-05:00"
    },
    "collapsed": false,
    "deletable": true,
    "editable": true,
    "run_control": {
     "frozen": false,
     "read_only": false
    }
   },
   "outputs": [],
   "source": [
    "def batch_gen(seq_length, source):\n",
    "    s_l = len(source)\n",
    "    b_n = math.ceil(s_l/seq_length)\n",
    "    s_pad = source + \" \" * (b_n * seq_length - s_l)\n",
    "    for i in range(b_n):\n",
    "        yield s_pad[i*seq_length: (i+1)*seq_length]"
   ]
  },
  {
   "cell_type": "code",
   "execution_count": null,
   "metadata": {
    "ExecuteTime": {
     "start_time": "2017-03-27T18:06:57.979Z"
    },
    "collapsed": false,
    "deletable": true,
    "editable": true,
    "run_control": {
     "frozen": false,
     "read_only": false
    },
    "scrolled": false
   },
   "outputs": [],
   "source": [
    "def get_chars():\n",
    "    step = 0\n",
    "    freq = {}\n",
    "    keys = []\n",
    "    for file_name, source in tqdm(source_gen()):\n",
    "\n",
    "        for char in source:\n",
    "            try:\n",
    "                freq[char] += 1\n",
    "            except KeyError:\n",
    "                freq[char] = 1\n",
    "                keys.append(char)\n",
    "        #if step%10000 == 9999:\n",
    "        #    print(str(step) + \": ln: \" + str(len(keys)) + str([\"\".join(keys)]))\n",
    "    \n",
    "    return keys, freq\n",
    "ks, freqs = get_chars()\n",
    "HTML(\"<pre>\" + \"\".join(ks) + \"</pre>\")"
   ]
  },
  {
   "cell_type": "markdown",
   "metadata": {
    "deletable": true,
    "editable": true,
    "run_control": {
     "frozen": false,
     "read_only": false
    }
   },
   "source": [
    "### Character Frequency\n",
    "\n",
    "There is a long tail of characters that appears only once, mostly emoji's and CJK characters. \n",
    "\n",
    "In this project, we will just manually specify lowercase alphabets and numbers as out input domain (plus space and hyphen)."
   ]
  },
  {
   "cell_type": "code",
   "execution_count": 9,
   "metadata": {
    "ExecuteTime": {
     "end_time": "2017-03-27T11:53:50.111111Z",
     "start_time": "2017-03-27T06:53:49.818101-05:00"
    },
    "collapsed": false,
    "deletable": true,
    "editable": true,
    "run_control": {
     "frozen": false,
     "read_only": false
    }
   },
   "outputs": [
    {
     "name": "stdout",
     "output_type": "stream",
     "text": [
      " etoainsrlhdcupmgfwyb,v.k-\n",
      "'STA0P1MICxD2\"BWEGN3OHRLFV5)(4Uzj9:q\t867$X/KJY?;QZ[]&!–®™*%+=•_#·@£ €—é¥’{}‐ü|~α×°>à￼©^�\\―”ö　“●…ー℠ó§ñ‟±­◦・ッ、：µ‖​\n"
     ]
    },
    {
     "data": {
      "image/png": "[encoded data removed]",
      "text/plain": [
       "<matplotlib.figure.Figure at 0x7fec405f7d30>"
      ]
     },
     "metadata": {
      "image/png": {
       "height": 277,
       "width": 379
      }
     },
     "output_type": "display_data"
    }
   ],
   "source": [
    "order = np.argsort([freqs[k] for k in ks])[::-1]\n",
    "chars_ordered = \"\".join(np.array([k for k in ks])[order])\n",
    "print(chars_ordered[:140])\n",
    "\n",
    "plt.title('Frequency of each character')\n",
    "plt.plot(np.array([math.log10(freqs[k]) for k in ks])[order])\n",
    "plt.ylabel('$\\log_10$ frequency')\n",
    "plt.xlabel('character index')\n",
    "plt.show()"
   ]
  },
  {
   "cell_type": "markdown",
   "metadata": {
    "deletable": true,
    "editable": true,
    "run_control": {
     "frozen": false,
     "read_only": false
    }
   },
   "source": [
    "### Output Domain\n",
    "\n",
    "The output domain includes the following. The punctuation extraction made sure that strings like \"I'm a boy\" doesn't introduce conflict between the capitalization of the \"i\" and the single quote afterward.\n",
    "\n",
    "```\n",
    "capitalization: <cap>\n",
    "         comma:  ,\n",
    "        period:  .\n",
    "   dollar sign:  $\n",
    "     semicolon:  ;\n",
    "         colon:  :\n",
    "  single quote:  '\n",
    "  double quote:  \"\n",
    "  no operation: <nop>\n",
    "```"
   ]
  },
  {
   "cell_type": "code",
   "execution_count": 10,
   "metadata": {
    "ExecuteTime": {
     "end_time": "2017-03-27T11:53:50.114038Z",
     "start_time": "2017-03-27T06:53:50.112142-05:00"
    },
    "collapsed": false,
    "deletable": true,
    "editable": true,
    "run_control": {
     "frozen": false,
     "read_only": false
    }
   },
   "outputs": [],
   "source": [
    "input_chars = list(\" \\nabcdefghijklmnopqrstuvwxyz01234567890\")\n",
    "output_chars = [\"<nop>\", \"<cap>\"] + list(\".,;:?!\\\"'$\")"
   ]
  },
  {
   "cell_type": "code",
   "execution_count": 11,
   "metadata": {
    "ExecuteTime": {
     "end_time": "2017-03-27T11:53:50.133472Z",
     "start_time": "2017-03-27T06:53:50.115316-05:00"
    },
    "collapsed": false,
    "deletable": true,
    "editable": true,
    "run_control": {
     "frozen": false,
     "read_only": false
    },
    "scrolled": false
   },
   "outputs": [
    {
     "data": {
      "text/plain": [
       "'\\ninput_size = 105\\nhidden_size = 105\\noutput_size = 105\\nlayers = 2\\n\\ngRNN = GruRNN(input_size, hidden_size, output_size, layers)\\n\\ngRNN(Variable(torch.FloatTensor(10000, 105)),\\n     Variable(torch.FloatTensor(layers, 105)))'"
      ]
     },
     "execution_count": 11,
     "metadata": {},
     "output_type": "execute_result"
    }
   ],
   "source": [
    "class GruRNN(nn.Module):\n",
    "    def __init__(self, input_size, hidden_size, output_size, layers=1, bi=False):\n",
    "        super(GruRNN, self).__init__()\n",
    "        self.input_size = input_size\n",
    "        self.hidden_size = hidden_size\n",
    "        self.output_size = output_size\n",
    "        self.layers = layers\n",
    "        self.bi_mul = 2 if bi else 1\n",
    "        \n",
    "        self.encoder = nn.Linear(input_size, hidden_size)\n",
    "        self.gru = nn.GRU(input_size, hidden_size, self.layers, bidirectional=bi)\n",
    "        self.decoder = nn.Linear(hidden_size * self.bi_mul, output_size)\n",
    "        self.softmax = F.softmax\n",
    "        \n",
    "    def forward(self, x, hidden):\n",
    "        #embeded = self.encoder(x)\n",
    "        embeded = x\n",
    "        #print(embeded.view(-1, 1, self.input_size).size())\n",
    "        #print(hidden.size())\n",
    "        gru_output, hidden = self.gru(embeded.view(-1, 1, self.input_size), hidden.view(self.layers * self.bi_mul, -1, self.hidden_size))\n",
    "        #print(gru_output.size())\n",
    "        output = self.decoder(gru_output.view(-1, self.hidden_size * self.bi_mul))\n",
    "        return output, hidden\n",
    "    \n",
    "    def init_hidden(self, random=False):\n",
    "        if random:\n",
    "            return Variable(torch.randn(self.layers * self.bi_mul, self.hidden_size))\n",
    "        else:\n",
    "            return Variable(torch.zeros(self.layers * self.bi_mul, self.hidden_size)) \n",
    "\"\"\"\n",
    "input_size = 105\n",
    "hidden_size = 105\n",
    "output_size = 105\n",
    "layers = 2\n",
    "\n",
    "gRNN = GruRNN(input_size, hidden_size, output_size, layers)\n",
    "\n",
    "gRNN(Variable(torch.FloatTensor(10000, 105)),\n",
    "     Variable(torch.FloatTensor(layers, 105)))\"\"\""
   ]
  },
  {
   "cell_type": "code",
   "execution_count": 12,
   "metadata": {
    "ExecuteTime": {
     "end_time": "2017-03-27T11:53:50.174707Z",
     "start_time": "2017-03-27T06:53:50.134463-05:00"
    },
    "collapsed": false,
    "deletable": true,
    "editable": true,
    "run_control": {
     "frozen": false,
     "read_only": false
    }
   },
   "outputs": [],
   "source": [
    "class Engadget():\n",
    "    def __init__(self, model, char2vec=None, output_char2vec=None):\n",
    "        self.model = model\n",
    "        if char2vec is None:\n",
    "            self.char2vec = Char2Vec()\n",
    "        else:\n",
    "            self.char2vec = char2vec\n",
    "            \n",
    "        if output_char2vec is None:\n",
    "            self.output_char2vec = self.char2vec\n",
    "        else:\n",
    "            self.output_char2vec = output_char2vec\n",
    "            \n",
    "        self.loss = 0\n",
    "        self.losses = []\n",
    "    \n",
    "    def init_hidden_(self, random=False):\n",
    "        self.hidden = model.init_hidden(random)\n",
    "        return self\n",
    "    \n",
    "    def save(self, fn=\"GRU_Engadget.tar\"):\n",
    "        torch.save({\n",
    "            \"hidden\": self.hidden, \n",
    "            \"state_dict\": model.state_dict(),\n",
    "            \"losses\": self.losses\n",
    "                   }, fn)\n",
    "    \n",
    "    def load(self, fn):\n",
    "        checkpoint = torch.load(fn)\n",
    "        self.hidden = checkpoint['hidden']\n",
    "        model.load_state_dict(checkpoint['state_dict'])\n",
    "        self.losses = checkpoint['losses']\n",
    "    \n",
    "    def setup_training(self, learning_rate):\n",
    "        self.optimizer = optim.Adam(model.parameters(), lr=learning_rate)\n",
    "        self.loss_fn = nn.CrossEntropyLoss()\n",
    "        self.init_hidden_()\n",
    "        \n",
    "    def reset_loss(self):\n",
    "        self.loss = 0\n",
    "        \n",
    "    def forward(self, input_text, target_text):\n",
    "        \n",
    "        self.hidden = self.hidden.detach()\n",
    "        \n",
    "        self.optimizer.zero_grad()\n",
    "        self.next_(input_text)\n",
    "        target_vec = Variable(self.output_char2vec.char_code(target_text))\n",
    "        self.loss += self.loss_fn(self.output, target_vec)\n",
    "        \n",
    "    def descent(self):\n",
    "        if self.loss is 0:\n",
    "            print(self.loss)\n",
    "            print('Warning: loss is zero.')\n",
    "            return\n",
    "        \n",
    "        self.loss.backward()\n",
    "        self.optimizer.step()\n",
    "        self.losses.append(self.loss.cpu().data.numpy())\n",
    "        self.reset_loss()\n",
    "    \n",
    "    def embed(self, input_data):\n",
    "        self.embeded = Variable(self.char2vec.one_hot(input_data))\n",
    "        return self.embeded\n",
    "        \n",
    "    def next_(self, input_text):\n",
    "        self.output, self.hidden = self.model(self.embed(input_text), self.hidden)\n",
    "        return self\n",
    "    \n",
    "    def softmax_(self, temperature=0.5):\n",
    "        self.softmax = self.model.softmax(self.output/temperature)\n",
    "        return self\n",
    "    \n",
    "    def output_chars(self, start=None, end=None):\n",
    "        indeces = torch.multinomial(self.softmax[start:end]).view(-1)\n",
    "        return self.output_char2vec.vec2list(indeces)"
   ]
  },
  {
   "cell_type": "code",
   "execution_count": 13,
   "metadata": {
    "ExecuteTime": {
     "end_time": "2017-03-27T11:53:50.195233Z",
     "start_time": "2017-03-27T06:53:50.175611-05:00"
    },
    "collapsed": false,
    "deletable": true,
    "editable": true,
    "run_control": {
     "frozen": false,
     "read_only": false
    }
   },
   "outputs": [],
   "source": [
    "def apply_punc(text_input, text_output):\n",
    "    result = \"\"\n",
    "    for char1, char2 in zip(text_input, text_output):\n",
    "        if char2 == \"<cap>\":\n",
    "            result += char1.upper()\n",
    "        elif char2 == \"<nop>\":\n",
    "            result += char1\n",
    "        else:\n",
    "            result += char2 + char1 \n",
    "    return result\n",
    "\n",
    "\n",
    "result = apply_punc(\"t s\", ['<cap>', '<nop>', ','])\n",
    "assert(result == \"T ,s\")"
   ]
  },
  {
   "cell_type": "code",
   "execution_count": 21,
   "metadata": {
    "ExecuteTime": {
     "end_time": "2017-03-27T11:56:36.419333Z",
     "start_time": "2017-03-27T06:56:36.374107-05:00"
    },
    "collapsed": false,
    "deletable": true,
    "editable": true,
    "run_control": {
     "frozen": false,
     "read_only": false
    }
   },
   "outputs": [
    {
     "name": "stdout",
     "output_type": "stream",
     "text": [
      "['a', 't', 'i', 'd', ' ', 'i', 'm', ' ', 'n', 'o', 't', ' ', 's', 'u', 'r', 'e', ' ', 'i', 'f', ' ', '1', '0', ' ', 'i', 's', ' ', 'e', 'n', 'o', 'u', 'g', 'h', ' ']\n",
      "['<cap>', '<cap>', '<cap>', \"'\", '.', '<cap>', \"'\", '<nop>', '<nop>', '<nop>', '<nop>', '<nop>', '<nop>', '<nop>', '<nop>', '<nop>', '<nop>', '<nop>', '<nop>', '<nop>', '$', '<nop>', '<nop>', '<nop>', '<nop>', '<nop>', '<nop>', '<nop>', '<nop>', '<nop>', '<nop>', '<nop>', '.']\n",
      "ATI'd. I'm not sure if $10 is enough. \n"
     ]
    }
   ],
   "source": [
    "def extract_punc(string_input, input_chars, output_chars):\n",
    "    input_source = []\n",
    "    output_source = []\n",
    "    input_length = len(string_input)\n",
    "    i = 0\n",
    "    while i < input_length:\n",
    "        char = string_input[i]\n",
    "        if char.isupper():\n",
    "            output_source.append(\"<cap>\")\n",
    "            input_source.append(char.lower())\n",
    "            \n",
    "        if char in output_chars:\n",
    "            output_source.append(char)\n",
    "            if i < input_length - 1:\n",
    "                input_source.append(string_input[i + 1])\n",
    "            else:\n",
    "                input_source.append(\" \")\n",
    "            i += 1\n",
    "        \n",
    "        if not char.isupper() and char not in output_chars and char in input_chars:\n",
    "            input_source.append(char)\n",
    "            output_source.append(\"<nop>\")\n",
    "        \n",
    "        i += 1\n",
    "    return input_source, output_source\n",
    "\n",
    "i, o = extract_punc(\"ATI'd. I'm not sure if $10 is enough. \", input_chars, output_chars)\n",
    "print(i)\n",
    "print(o)\n",
    "result = apply_punc(\"\".join(i), o)\n",
    "print(result)"
   ]
  },
  {
   "cell_type": "markdown",
   "metadata": {
    "deletable": true,
    "editable": true,
    "run_control": {
     "frozen": false,
     "read_only": false
    }
   },
   "source": [
    "### Accuracy Metric\n",
    "\n",
    "The accuracy metric is the standard precision/recall plus F-score. The implementation is bellow, referenced from wikipedia and two other papers."
   ]
  },
  {
   "cell_type": "code",
   "execution_count": 15,
   "metadata": {
    "ExecuteTime": {
     "end_time": "2017-03-27T11:53:50.277357Z",
     "start_time": "2017-03-27T06:53:50.217219-05:00"
    },
    "code_folding": [],
    "collapsed": false,
    "deletable": true,
    "editable": true,
    "run_control": {
     "frozen": false,
     "read_only": false
    }
   },
   "outputs": [
    {
     "name": "stdout",
     "output_type": "stream",
     "text": [
      "Key: \u001b[31m<nop>\u001b[0m\tPrec: \u001b[32m 98.9\u001b[0m%\tRecall: \u001b[32m 97.8\u001b[0m%\tF-Score: \u001b[32m 98.4\u001b[0m%\u001b[0m\n",
      "Key: \u001b[31m  ,\u001b[0m\tPrec: \u001b[32m  0.0\u001b[0m%\tRecall: \u001b[32m  0.0\u001b[0m%\tF-Score:   N/A\u001b[0m\n",
      "Key: \u001b[31m<cap>\u001b[0m\tPrec: \u001b[32m100.0\u001b[0m%\tRecall: \u001b[32m 60.0\u001b[0m%\tF-Score: \u001b[32m 75.0\u001b[0m%\u001b[0m\n",
      "Key: \u001b[31m  .\u001b[0m\tPrec: \u001b[32m  0.0\u001b[0m%\tRecall: \u001b[32m  0.0\u001b[0m%\tF-Score:   N/A\u001b[0m\n",
      "Key: \u001b[31m  '\u001b[0m\tPrec: \u001b[32m 66.7\u001b[0m%\tRecall: \u001b[32m100.0\u001b[0m%\tF-Score: \u001b[32m 80.0\u001b[0m%\u001b[0m\n",
      "\n",
      "\n",
      "true_p:\t{'<nop>': 181, '<cap>': 3, \"'\": 2}\n",
      "p:\t{'<nop>': 185, '<cap>': 5, \"'\": 2}\n",
      "all_p:\t{'<nop>': 183, ',': 2, '<cap>': 3, '.': 1, \"'\": 3}\n"
     ]
    }
   ],
   "source": [
    "from termcolor import cprint, colored as c\n",
    "\n",
    "def inc(d, k):\n",
    "    if k in d: d[k] += 1\n",
    "    else: d[k] = 1\n",
    "        \n",
    "def precision_recall(output, target):\n",
    "    \n",
    "    assert len(output) == len(target)\n",
    "    \n",
    "    keys = []\n",
    "    true_p = {}\n",
    "    p = {}\n",
    "    all_p = {}\n",
    "    for i in range(len(output)):\n",
    "    \n",
    "        inc(all_p, target[i])\n",
    "        inc(p, output[i])\n",
    "        if target[i] == output[i]:\n",
    "            inc(true_p, output[i])\n",
    "        \n",
    "    precision = {k: (true_p[k] if k in true_p else 0) / all_p[k] for k in all_p.keys()}\n",
    "    \n",
    "    recall = {k: (true_p[k] if k in true_p else 0) / p[k] for k in p.keys()}\n",
    "    \n",
    "    return precision, recall, {\"true_p\": true_p, \"p\": p, \"all_p\": all_p}\n",
    "\n",
    "test_o = ['<nop>', '<nop>', '<nop>', '<nop>', '<nop>', '<nop>', '<nop>', '<nop>', '<nop>', \n",
    "          '<nop>', '<nop>', '<cap>', '<cap>', '<nop>', '<nop>', '<nop>', '<nop>', '<nop>', \n",
    "          '<nop>', '<nop>', '<nop>', '<nop>', '<nop>', '<nop>', '<nop>', '<nop>', '<nop>',\n",
    "          '<nop>', '<nop>', '<nop>', '<nop>', '<nop>', '<nop>', '<nop>', '<nop>', '<nop>', \n",
    "          '<nop>', '<nop>', '<nop>', '<nop>', '<nop>', '<nop>', '<cap>', '<nop>', '<nop>', \n",
    "          '<nop>', '<nop>', '<nop>', '<nop>', '<nop>', '<nop>', '<nop>', '<nop>', '<nop>', \n",
    "          '<nop>', '<nop>', '<nop>', '<nop>', '<nop>', '<nop>', '<nop>', '<nop>', '<nop>', \n",
    "          '<nop>', '<nop>', '<nop>', '<nop>', '<nop>', '<nop>', '<nop>', '<nop>', '<nop>', \n",
    "          '<nop>', '<nop>', '<nop>', '<nop>', '<nop>', '<nop>', '<nop>', '<nop>', '<nop>', \n",
    "          '<nop>', '<nop>', '<nop>', '<nop>', '<nop>', '<nop>', '<nop>', '<nop>', '<nop>', \n",
    "          '<nop>', '<nop>', '<nop>', '<nop>', '<nop>', '<nop>', '<nop>', '<nop>', '<nop>', \n",
    "          '<nop>', '<nop>', \"'\", '<nop>', '<nop>', '<cap>', '<nop>', '<nop>', '<nop>', \n",
    "          '<nop>', '<nop>', '<nop>', '<nop>', '<nop>', '<nop>', '<nop>', \"'\", '<nop>', \n",
    "          '<nop>', '<nop>', '<nop>', '<nop>', '<nop>', '<nop>', '<nop>']\n",
    "test_target = ['<nop>', '<nop>', ',', '<nop>', '<nop>', '<nop>', '<nop>', '<nop>', '<nop>', \n",
    "               '<nop>', '<nop>', '<cap>', '<cap>', '<nop>', '<nop>', '<nop>', '<nop>', \n",
    "               '<nop>', '<nop>', '<nop>', '<nop>', '<nop>', '<nop>', '<nop>', '<nop>',\n",
    "               '<nop>', '<nop>', '<nop>', '<nop>', '<nop>', '<nop>', '<nop>', '<nop>', \n",
    "               '<nop>', '<nop>', '<nop>', '<nop>', '<nop>', '<nop>', '<nop>', '.', '<nop>', \n",
    "               '<cap>', '<nop>', '<nop>', '<nop>', '<nop>', '<nop>', '<nop>', '<nop>', \n",
    "               '<nop>', \"'\", '<nop>', '<nop>', '<nop>', '<nop>', '<nop>', '<nop>', '<nop>',\n",
    "               '<nop>', '<nop>', '<nop>', '<nop>', '<nop>', '<nop>', '<nop>', '<nop>', \n",
    "               '<nop>', '<nop>', '<nop>', '<nop>', '<nop>', '<nop>', '<nop>', '<nop>', \n",
    "               '<nop>', '<nop>', '<nop>', '<nop>', '<nop>', '<nop>', '<nop>', '<nop>', \n",
    "               '<nop>', '<nop>', '<nop>', '<nop>', '<nop>', '<nop>', '<nop>', '<nop>', \n",
    "               '<nop>', '<nop>', '<nop>', '<nop>', '<nop>', '<nop>', ',', '<nop>', '<nop>',\n",
    "               '<nop>', \"'\", '<nop>', '<nop>', '<nop>', '<nop>', '<nop>', '<nop>', '<nop>', \n",
    "               '<nop>', '<nop>', '<nop>', '<nop>', '<nop>', '<nop>', \"'\", '<nop>', '<nop>', \n",
    "               '<nop>', '<nop>', '<nop>', '<nop>', '<nop>', '<nop>']\n",
    "\n",
    "def F_score(p, r):\n",
    "    f_scores = {\n",
    "        k: None if p[k] == 0 else (0 if r[k] == 0 else 2 /(1/p[k] + 1/r[k]) )\n",
    "        for k in p\n",
    "    }\n",
    "    return f_scores\n",
    "        \n",
    "\n",
    "p, r, _ = precision_recall(test_o, test_target)\n",
    "f = F_score(p, r)\n",
    "\n",
    "for k in p.keys():\n",
    "    cprint(\"Key: \" + c((\"  \" + k)[-5:], 'red') + \n",
    "           \"\\tPrec: \" + c(\"  {:.1f}\".format(p[k] * 100)[-5:], 'green') + '%' + \n",
    "           \"\\tRecall: \" + c(\"  {:.1f}\".format((r[k] if k in r else 0) * 100)[-5:], 'green') + \"%\" + \n",
    "           \"\\tF-Score: \" + (\"  N/A\" if f[k] is None else (c(\"  {:.1f}\".format(f[k] * 100)[-5:], \"green\") + \"%\"))\n",
    "          )\n",
    "    \n",
    "print('\\n')\n",
    "for k in _:\n",
    "    print(k + ':\\t' + str(_[k]))"
   ]
  },
  {
   "cell_type": "code",
   "execution_count": 16,
   "metadata": {
    "ExecuteTime": {
     "end_time": "2017-03-27T11:53:50.297289Z",
     "start_time": "2017-03-27T06:53:50.278311-05:00"
    },
    "collapsed": false,
    "deletable": true,
    "editable": true,
    "run_control": {
     "frozen": false,
     "read_only": false
    }
   },
   "outputs": [],
   "source": [
    "def print_pc(o, target):\n",
    "    p, r, _ = precision_recall(test_o, test_target)\n",
    "    f = F_score(p, r)\n",
    "\n",
    "    for k in p.keys():\n",
    "        cprint(\"Key: \" + c((\"  \" + k)[-5:], 'red') + \n",
    "               \"\\tPrec: \" + c(\"  {:.1f}\".format(p[k] * 100)[-5:], 'green') + '%' + \n",
    "               \"\\tRecall: \" + c(\"  {:.1f}\".format((r[k] if k in r else 0) * 100)[-5:], 'green') + \"%\" + \n",
    "               \"\\tF-Score: \" + (\"  N/A\" if f[k] is None else (c(\"  {:.1f}\".format(f[k] * 100)[-5:], \"green\") + \"%\"))\n",
    "              )\n",
    "    \n",
    "        \n",
    "def plot_progress(embeded, output, softmax, losses):\n",
    "    fig = plt.figure(figsize=(16, 8))\n",
    "    fig.subplots_adjust(hspace=0.0625)\n",
    "    plt.subplot(131)\n",
    "    plt.title(\"Input\")\n",
    "    plt.imshow(embeded, cmap=\"Greys_r\", interpolation=\"none\")\n",
    "    plt.subplot(132)\n",
    "    plt.title(\"Output\")\n",
    "    im = plt.imshow(output, interpolation=\"none\")\n",
    "    cb = plt.colorbar(im, fraction=0.08); cb.outline.set_linewidth(0)\n",
    "    plt.subplot(133)\n",
    "    plt.title(\"Softmax Output\")\n",
    "    im = plt.imshow(softmax, interpolation=\"none\")\n",
    "    cb = plt.colorbar(im, fraction=0.08); cb.outline.set_linewidth(0)\n",
    "    plt.show()\n",
    "\n",
    "    plt.figure(figsize=(10, 3))\n",
    "    plt.title('Training loss')\n",
    "    plt.plot(losses, label=\"loss\", linewidth=3, alpha=0.4)\n",
    "    plt.show()"
   ]
  },
  {
   "cell_type": "code",
   "execution_count": 17,
   "metadata": {
    "ExecuteTime": {
     "end_time": "2017-03-27T11:53:50.318801Z",
     "start_time": "2017-03-27T06:53:50.298186-05:00"
    },
    "collapsed": false,
    "deletable": true,
    "editable": true,
    "run_control": {
     "frozen": false,
     "read_only": false
    }
   },
   "outputs": [
    {
     "name": "stdout",
     "output_type": "stream",
     "text": [
      "input_size is: 40; ouput_size is: 11\n"
     ]
    }
   ],
   "source": [
    "# torch.set_num_threads(8)\n",
    "\n",
    "char2vec = Char2Vec(chars=input_chars, add_unknown=True)\n",
    "output_char2vec = Char2Vec(chars = output_chars)\n",
    "input_size = char2vec.size \n",
    "output_size = output_char2vec.size\n",
    "\n",
    "print(\"input_size is: \" + str(input_size) + \"; ouput_size is: \" + str(output_size))\n",
    "hidden_size = input_size\n",
    "layers = 1\n",
    "\n",
    "model = GruRNN(input_size, hidden_size, output_size, layers=layers, bi=True)\n",
    "egdt = Engadget(model, char2vec, output_char2vec)\n",
    "#egdt.load('./data/Gru_Engadget_1_layer_bi_narrow.tar')"
   ]
  },
  {
   "cell_type": "code",
   "execution_count": 18,
   "metadata": {
    "ExecuteTime": {
     "end_time": "2017-03-27T11:53:50.339151Z",
     "start_time": "2017-03-27T06:53:50.319710-05:00"
    },
    "collapsed": false,
    "deletable": true,
    "editable": true,
    "run_control": {
     "frozen": false,
     "read_only": false
    }
   },
   "outputs": [],
   "source": [
    "learning_rate = 2e-3\n",
    "egdt.setup_training(learning_rate)"
   ]
  },
  {
   "cell_type": "markdown",
   "metadata": {
    "deletable": true,
    "editable": true,
    "run_control": {
     "frozen": false,
     "read_only": false
    }
   },
   "source": [
    "## Training\n",
    "\n",
    "The training below initializes the hidden layer at the beginning of each file. I believe this makes it more consistent, and easier for the network to converge."
   ]
  },
  {
   "cell_type": "code",
   "execution_count": null,
   "metadata": {
    "ExecuteTime": {
     "start_time": "2017-03-27T12:02:18.838Z"
    },
    "collapsed": false,
    "deletable": true,
    "editable": true,
    "run_control": {
     "frozen": false,
     "read_only": false
    },
    "scrolled": false
   },
   "outputs": [
    {
     "name": "stdout",
     "output_type": "stream",
     "text": [
      "Epoch 0\n"
     ]
    },
    {
     "data": {
      "image/png": "[encoded data removed]",
      "text/plain": [
       "<matplotlib.figure.Figure at 0x7fec2dacb2b0>"
      ]
     },
     "metadata": {
      "image/png": {
       "height": 481,
       "width": 891
      }
     },
     "output_type": "display_data"
    },
    {
     "data": {
      "image/png": "[encoded data removed]",
      "text/plain": [
       "<matplotlib.figure.Figure at 0x7fec2f71f358>"
      ]
     },
     "metadata": {
      "image/png": {
       "height": 209,
       "width": 597
      }
     },
     "output_type": "display_data"
    },
    {
     "name": "stdout",
     "output_type": "stream",
     "text": [
      " seidio makes a slim 1,350mAh model that should help you get a little more time in before a charge.Tips and tricks webOS utilizes a slew of keyboard shortcuts try hitting option. the orange or gray Key  Sym  P to take a screenshot or option  Sym  R to reboot your device option  iCon Tap in the Launcher will allow you to delete an app or option  Sym  I in an open Card will give you stats on that process don't forget to add your mostused contacts to speed dial so, you can call your friends and family with a long press on the key that you've assigned copy and paste works just as you'd expect here  after selecting text shift  tap use a combo of Gesture area tap  a C V and X for select all copy paste and cut in weboS 2.0 it can be helpful to group cards by use  for instance we like to keep Voogle grouped behind our phone dialer, so our voicemail and phone are in one place creating your own alert tones is super easy as of version webOS 14.  just create a fold\n",
      "\n",
      "Key: \u001b[31m<nop>\u001b[0m\tPrec: \u001b[32m 98.9\u001b[0m%\tRecall: \u001b[32m 97.8\u001b[0m%\tF-Score: \u001b[32m 98.4\u001b[0m%\u001b[0m\n",
      "Key: \u001b[31m  ,\u001b[0m\tPrec: \u001b[32m  0.0\u001b[0m%\tRecall: \u001b[32m  0.0\u001b[0m%\tF-Score:   N/A\u001b[0m\n",
      "Key: \u001b[31m<cap>\u001b[0m\tPrec: \u001b[32m100.0\u001b[0m%\tRecall: \u001b[32m 60.0\u001b[0m%\tF-Score: \u001b[32m 75.0\u001b[0m%\u001b[0m\n",
      "Key: \u001b[31m  .\u001b[0m\tPrec: \u001b[32m  0.0\u001b[0m%\tRecall: \u001b[32m  0.0\u001b[0m%\tF-Score:   N/A\u001b[0m\n",
      "Key: \u001b[31m  '\u001b[0m\tPrec: \u001b[32m 66.7\u001b[0m%\tRecall: \u001b[32m100.0\u001b[0m%\tF-Score: \u001b[32m 80.0\u001b[0m%\u001b[0m\n"
     ]
    },
    {
     "name": "stderr",
     "output_type": "stream",
     "text": [
      "17574it [6:44:01,  1.22it/s]"
     ]
    }
   ],
   "source": [
    "model.zero_grad()\n",
    "egdt.reset_loss()\n",
    "\n",
    "seq_length = 1000\n",
    "\n",
    "for epoch_num in range(10):\n",
    "    \n",
    "    step = 0\n",
    "    \n",
    "    for file_ind, (file_name, source) in enumerate(tqdm(train_gen())):\n",
    "        \n",
    "        # at the begining of the file, reset hidden to zero\n",
    "        egdt.init_hidden_(random=False)\n",
    "            \n",
    "        for source_ in batch_gen(seq_length, source):\n",
    "            \n",
    "            \n",
    "            step += 1\n",
    "            \n",
    "            input_source, punctuation_target = extract_punc(source_, egdt.char2vec.chars, egdt.output_char2vec.chars)\n",
    "            #print(len(input_source), len(punctuation_target))\n",
    "            \n",
    "            try:\n",
    "                egdt.forward(input_source, punctuation_target)\n",
    "                if step%1 == 0:\n",
    "                    egdt.descent()\n",
    "                    \n",
    "            except KeyError:\n",
    "                print(source)\n",
    "                raise KeyError\n",
    "            \n",
    "\n",
    "            if step%500 == 499:\n",
    "                clear_output(wait=True)\n",
    "                print('Epoch {:d}'.format(epoch_num))\n",
    "\n",
    "                egdt.softmax_()\n",
    "\n",
    "                plot_progress(egdt.embeded[:130].data.numpy(), \n",
    "                              egdt.output[:20].data.numpy(), \n",
    "                              egdt.softmax[:20].data.numpy(),\n",
    "                              egdt.losses)\n",
    "                \n",
    "                punctuation_output = egdt.output_chars()\n",
    "                result = apply_punc(input_source, punctuation_output)\n",
    "                \n",
    "                # print(punctuation_output, punctuation_target)\n",
    "                print(result + \"\\n\")\n",
    "                \n",
    "                print_pc(punctuation_output, punctuation_target)\n",
    "                \n",
    "        # validation, ran once in a while. takes a munite to run.\n",
    "        if file_ind%200 == 1999:\n",
    "            print('Dev Set Performance {:d}'.format(epoch_num))\n",
    "\n",
    "\n",
    "            validation_source = \"\".join([source for fn, source in validation_gen()])\n",
    "            input_source, punctuation_target = extract_punc(validation_source, egdt.char2vec.chars, egdt.output_char2vec.chars)\n",
    "            egdt.init_hidden_(random=False)\n",
    "            egdt.forward(input_source, punctuation_target)\n",
    "            egdt.softmax_()\n",
    "            plot_progress(egdt.embeded[:130].data.numpy(), \n",
    "                          egdt.output[:20].data.numpy(), \n",
    "                          egdt.softmax[:20].data.numpy(),\n",
    "                          egdt.losses)\n",
    "\n",
    "            punctuation_output = egdt.output_chars()\n",
    "            result = apply_punc(input_source, punctuation_output)\n",
    "\n",
    "            # print(punctuation_output, punctuation_target)\n",
    "            print(result + \"\\n\")\n",
    "\n",
    "            print_pc(punctuation_output, punctuation_target)"
   ]
  },
  {
   "cell_type": "markdown",
   "metadata": {
    "deletable": true,
    "editable": true,
    "hide_input": false,
    "run_control": {
     "frozen": false,
     "read_only": false
    }
   },
   "source": [
    "## Now use the network to generate text!"
   ]
  },
  {
   "cell_type": "code",
   "execution_count": null,
   "metadata": {
    "ExecuteTime": {
     "start_time": "2017-03-27T18:06:41.403Z"
    },
    "collapsed": false,
    "deletable": true,
    "editable": true,
    "run_control": {
     "frozen": false,
     "read_only": false
    }
   },
   "outputs": [],
   "source": [
    "egdt.save('./data/Gru_Engadget_1_layer_bi_narrow.tar')"
   ]
  },
  {
   "cell_type": "code",
   "execution_count": null,
   "metadata": {
    "ExecuteTime": {
     "start_time": "2017-03-27T18:06:41.823Z"
    },
    "collapsed": false,
    "deletable": true,
    "editable": true,
    "run_control": {
     "frozen": false,
     "read_only": false
    }
   },
   "outputs": [],
   "source": [
    "from ipywidgets import widgets\n",
    "from IPython.display import display"
   ]
  },
  {
   "cell_type": "markdown",
   "metadata": {
    "deletable": true,
    "editable": true,
    "run_control": {
     "frozen": false,
     "read_only": false
    }
   },
   "source": [
    "**Note**: Again, using a zero initial state for the hidden state gives a much better result for the prediction."
   ]
  },
  {
   "cell_type": "code",
   "execution_count": null,
   "metadata": {
    "ExecuteTime": {
     "start_time": "2017-03-27T18:06:42.631Z"
    },
    "collapsed": false,
    "deletable": true,
    "editable": true,
    "run_control": {
     "frozen": false,
     "read_only": false
    }
   },
   "outputs": [],
   "source": [
    "def predict_next(input_text, gen_length=None, temperature=0.05):\n",
    "    \n",
    "    if gen_length is None: \n",
    "        gen_length = len(input_text)\n",
    "    \n",
    "    clear_output(wait=True)\n",
    "    #egdt = Engadget(model).init_hidden_(random=True)\n",
    "    \n",
    "    egdt.init_hidden_()\n",
    "    egdt.next_(input_text)\n",
    "    egdt.softmax_()\n",
    "    output = egdt.output_chars()\n",
    "    \n",
    "    #print(output)\n",
    "    result = apply_punc(input_text, output)\n",
    "    print(result)\n",
    "    \n",
    "    plt.figure(figsize=(12, 9))\n",
    "    plt.subplot(311)\n",
    "    plt.title(\"Input\")\n",
    "    plt.imshow(egdt.embeded[:130].data.byte().numpy().T, cmap=\"Greys_r\", interpolation=\"none\")\n",
    "    plt.subplot(312)\n",
    "    plt.title(\"Output\")\n",
    "    plt.imshow(egdt.output[:130].data.byte().numpy().T, interpolation=\"none\")\n",
    "    plt.subplot(313)\n",
    "    plt.title(\"Softmax\")\n",
    "    plt.imshow(egdt.softmax[:130].cpu().data.numpy().T, interpolation=\"none\")\n",
    "    plt.show()\n",
    "\n",
    "predict_next(\"   this wont be a simple sentense it doesnt have puntuations\\n\\nim not sure\", 200, 1)"
   ]
  },
  {
   "cell_type": "code",
   "execution_count": null,
   "metadata": {
    "ExecuteTime": {
     "start_time": "2017-03-27T18:06:43.010Z"
    },
    "collapsed": false,
    "deletable": true,
    "editable": true,
    "run_control": {
     "frozen": false,
     "read_only": false
    },
    "scrolled": false
   },
   "outputs": [],
   "source": [
    "text_input = widgets.Text()\n",
    "display(text_input)\n",
    "\n",
    "def handle_submit(sender):\n",
    "    #print(text_input.value)\n",
    "    predict_next(text_input.value, 2000, temperature=0.5)\n",
    "    \n",
    "text_input.on_submit(handle_submit)"
   ]
  },
  {
   "cell_type": "markdown",
   "metadata": {
    "collapsed": true,
    "deletable": true,
    "editable": true,
    "run_control": {
     "frozen": false,
     "read_only": false
    }
   },
   "source": [
    "The ge"
   ]
  },
  {
   "cell_type": "code",
   "execution_count": null,
   "metadata": {
    "collapsed": false,
    "deletable": true,
    "editable": true,
    "run_control": {
     "frozen": false,
     "read_only": false
    }
   },
   "outputs": [],
   "source": []
  },
  {
   "cell_type": "code",
   "execution_count": null,
   "metadata": {
    "collapsed": false,
    "deletable": true,
    "editable": true,
    "run_control": {
     "frozen": false,
     "read_only": false
    }
   },
   "outputs": [],
   "source": []
  }
 ],
 "metadata": {
  "_draft": {
   "nbviewer_url": "https://gist.github.com/e261821a98490523e543170cd7229b8f"
  },
  "anaconda-cloud": {},
  "gist": {
   "data": {
    "description": "pytorch_playground/engadget_rnn/Learning Punctuations by reading Engadget.ipynb",
    "public": true
   },
   "id": "e261821a98490523e543170cd7229b8f"
  },
  "hide_input": false,
  "kernelspec": {
   "display_name": "deep-learning-python3",
   "language": "python",
   "name": "deep-learning"
  },
  "language_info": {
   "codemirror_mode": {
    "name": "ipython",
    "version": 3
   },
   "file_extension": ".py",
   "mimetype": "text/x-python",
   "name": "python",
   "nbconvert_exporter": "python",
   "pygments_lexer": "ipython3",
   "version": "3.6.0"
  },
  "toc": {
   "colors": {
    "hover_highlight": "#DAA520",
    "running_highlight": "#FF0000",
    "selected_highlight": "#FFD700"
   },
   "moveMenuLeft": true,
   "nav_menu": {
    "height": "107px",
    "width": "253px"
   },
   "navigate_menu": true,
   "number_sections": false,
   "sideBar": true,
   "threshold": 4,
   "toc_cell": false,
   "toc_position": {
    "height": "556px",
    "left": "0px",
    "right": "auto",
    "top": "130px",
    "width": "413px"
   },
   "toc_section_display": "block",
   "toc_window_display": true,
   "widenNotebook": false
  },
  "widgets": {
   "state": {
    "17298efebe594dc1b94fb6ba924f3c4b": {
     "views": [
      {
       "cell_index": 9
      }
     ]
    },
    "7e82dbc7be6b4d6a824f1c93e8f5826e": {
     "views": [
      {
       "cell_index": 10
      }
     ]
    }
   },
   "version": "1.2.0"
  }
 },
 "nbformat": 4,
 "nbformat_minor": 0
}
