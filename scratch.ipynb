{
 "cells": [
  {
   "cell_type": "markdown",
   "metadata": {},
   "source": [
    "- correct insertion\n",
    "- incorrect insertion\n",
    "- correct capitalization\n",
    "- incorrect capitalization"
   ]
  },
  {
   "cell_type": "code",
   "execution_count": null,
   "metadata": {
    "collapsed": true
   },
   "outputs": [],
   "source": [
    "from IPython.display import HTML\n",
    "\n",
    "def string_diff(base, source, patch_result):\n",
    "    \"\"\"assume that source is always correct, and patch is always longer than base.\"\"\"\n",
    "    a = 0, b = 0, c = 0\n",
    "    l_a = len(base)\n",
    "    l_b = len(source)\n",
    "    l_c = len(patch_result)\n",
    "    result = []\n",
    "    while a <= l_a or b <= l_b or c <= l_c:\n",
    "        # not an insertion\n",
    "        if base[a] == patch_result[c] and base[a] == source[b]:\n",
    "            result.append(base[a])\n",
    "            a += 1\n",
    "            b += 1\n",
    "            c += 1\n",
    "        # correct insert tion\n",
    "        elif patch_result[c] == source[b]:\n",
    "            result.append(\"<ins>\" + patch_result[c] + \"</ins>\")\n",
    "            b += 1\n",
    "            c += 1\n",
    "        # incorrect insertion\n",
    "        else:\n",
    "            if base[a] == source[b]:\n",
    "                result.append('<del>' + patch_result[b] + '</del>')\n",
    "                a += 1\n",
    "                b += 1\n",
    "                result.append('')\n",
    "        elif source[b] ！= patch_result[c]:\n",
    "            result.append(\"<del>\" + patch_result[c] + \"</del>\")\n",
    "            c += 1\n",
    "        # missing punctuation\n",
    "        if source[a] = patch_result[b]:\n",
    "            result.append(source[a])\n",
    "            a += 1, b += 1\n",
    "        # correct replacement\n",
    "        elif source[a] = patch_result[b + 1]:\n",
    "            result.append(\"<ins>\" + source[b] + \"</ins>\")\n",
    "            b += 1\n",
    "        # incorrect replacement\n",
    "        else:\n",
    "            result.append(\"<del>\" + source[a] + \"</del>\")\n",
    "            a += 1\n",
    "    return result\n",
    "\n",
    "delta = string_diff(\"01234567\", \"0.1.234.76\", \"01.24456\")\n",
    "HTML(delta)"
   ]
  }
 ],
 "metadata": {
  "kernelspec": {
   "display_name": "deep-learning-python3",
   "language": "python",
   "name": "deep-learning"
  },
  "language_info": {
   "codemirror_mode": {
    "name": "ipython",
    "version": 3
   },
   "file_extension": ".py",
   "mimetype": "text/x-python",
   "name": "python",
   "nbconvert_exporter": "python",
   "pygments_lexer": "ipython3",
   "version": "3.6.0"
  }
 },
 "nbformat": 4,
 "nbformat_minor": 2
}
